{
 "cells": [
  {
   "cell_type": "code",
   "execution_count": null,
   "id": "ff68164d",
   "metadata": {},
   "outputs": [
    {
     "name": "stdout",
     "output_type": "stream",
     "text": [
      "Looking in indexes: https://download.pytorch.org/whl/cu117\n",
      "Requirement already satisfied: torch in c:\\users\\griff\\anaconda3\\envs\\vision\\lib\\site-packages (2.7.1)\n",
      "Collecting torchvision\n",
      "  Using cached https://download.pytorch.org/whl/cu117/torchvision-0.15.2%2Bcu117-cp310-cp310-win_amd64.whl (4.9 MB)\n",
      "Collecting torchaudio\n",
      "  Using cached https://download.pytorch.org/whl/cu117/torchaudio-2.0.2%2Bcu117-cp310-cp310-win_amd64.whl (2.5 MB)\n",
      "Requirement already satisfied: networkx in c:\\users\\griff\\anaconda3\\envs\\vision\\lib\\site-packages (from torch) (3.4.2)\n",
      "Requirement already satisfied: fsspec in c:\\users\\griff\\anaconda3\\envs\\vision\\lib\\site-packages (from torch) (2025.5.1)\n",
      "Requirement already satisfied: sympy>=1.13.3 in c:\\users\\griff\\anaconda3\\envs\\vision\\lib\\site-packages (from torch) (1.14.0)\n",
      "Requirement already satisfied: jinja2 in c:\\users\\griff\\anaconda3\\envs\\vision\\lib\\site-packages (from torch) (3.1.6)\n",
      "Requirement already satisfied: filelock in c:\\users\\griff\\anaconda3\\envs\\vision\\lib\\site-packages (from torch) (3.18.0)\n",
      "Requirement already satisfied: typing-extensions>=4.10.0 in c:\\users\\griff\\anaconda3\\envs\\vision\\lib\\site-packages (from torch) (4.14.0)\n",
      "Collecting requests\n",
      "  Downloading https://download.pytorch.org/whl/requests-2.28.1-py3-none-any.whl (62 kB)\n",
      "     -------------------------------------- 62.8/62.8 kB 674.4 kB/s eta 0:00:00\n",
      "Requirement already satisfied: pillow!=8.3.*,>=5.3.0 in c:\\users\\griff\\anaconda3\\envs\\vision\\lib\\site-packages (from torchvision) (11.2.1)\n",
      "Requirement already satisfied: numpy in c:\\users\\griff\\anaconda3\\envs\\vision\\lib\\site-packages (from torchvision) (2.2.6)\n",
      "Collecting torch\n",
      "  Downloading https://download.pytorch.org/whl/cu117/torch-2.0.1%2Bcu117-cp310-cp310-win_amd64.whl (2343.6 MB)\n",
      "     ---------------------------------------- 2.3/2.3 GB 1.4 MB/s eta 0:00:00\n",
      "Requirement already satisfied: mpmath<1.4,>=1.1.0 in c:\\users\\griff\\anaconda3\\envs\\vision\\lib\\site-packages (from sympy>=1.13.3->torch) (1.3.0)\n",
      "Requirement already satisfied: MarkupSafe>=2.0 in c:\\users\\griff\\anaconda3\\envs\\vision\\lib\\site-packages (from jinja2->torch) (3.0.2)\n",
      "Collecting idna<4,>=2.5\n",
      "  Downloading https://download.pytorch.org/whl/idna-3.4-py3-none-any.whl (61 kB)\n",
      "     ---------------------------------------- 61.5/61.5 kB 1.1 MB/s eta 0:00:00\n",
      "Requirement already satisfied: certifi>=2017.4.17 in c:\\users\\griff\\anaconda3\\envs\\vision\\lib\\site-packages (from requests->torchvision) (2025.6.15)\n",
      "Collecting charset-normalizer<3,>=2\n",
      "  Downloading https://download.pytorch.org/whl/charset_normalizer-2.1.1-py3-none-any.whl (39 kB)\n",
      "Collecting urllib3<1.27,>=1.21.1\n",
      "  Downloading https://download.pytorch.org/whl/urllib3-1.26.13-py2.py3-none-any.whl (140 kB)\n",
      "     -------------------------------------- 140.6/140.6 kB 2.8 MB/s eta 0:00:00\n",
      "Installing collected packages: urllib3, idna, charset-normalizer, torch, requests, torchvision, torchaudio\n",
      "  Attempting uninstall: torch\n",
      "    Found existing installation: torch 2.7.1\n",
      "    Uninstalling torch-2.7.1:\n",
      "      Successfully uninstalled torch-2.7.1\n",
      "Note: you may need to restart the kernel to use updated packages.\n"
     ]
    },
    {
     "name": "stderr",
     "output_type": "stream",
     "text": [
      "ERROR: Could not install packages due to an OSError: [WinError 5] Access is denied: 'C:\\\\Users\\\\griff\\\\anaconda3\\\\envs\\\\vision\\\\Lib\\\\site-packages\\\\~orch\\\\lib\\\\asmjit.dll'\n",
      "Consider using the `--user` option or check the permissions.\n",
      "\n"
     ]
    }
   ],
   "source": [
    "%pip install torch torchvision torchaudio --index-url https://download.pytorch.org/whl/cu117"
   ]
  },
  {
   "cell_type": "code",
   "execution_count": null,
   "id": "c86bf447",
   "metadata": {},
   "outputs": [
    {
     "name": "stdout",
     "output_type": "stream",
     "text": [
      "Requirement already satisfied: numpy==2.2.6 in c:\\users\\griff\\anaconda3\\envs\\vision\\lib\\site-packages (2.2.6)\n",
      "Note: you may need to restart the kernel to use updated packages.\n"
     ]
    }
   ],
   "source": [
    "%pip install numpy<2"
   ]
  },
  {
   "cell_type": "code",
   "execution_count": 11,
   "id": "edffff34",
   "metadata": {},
   "outputs": [],
   "source": [
    "import numpy as np\n",
    "import torch\n",
    "import torch.nn as nn\n",
    "import torch.nn.functional as F\n",
    "from torch.utils.data import DataLoader, TensorDataset\n",
    "import matplotlib.pyplot as plt"
   ]
  },
  {
   "cell_type": "code",
   "execution_count": 12,
   "id": "3f8388f7",
   "metadata": {},
   "outputs": [],
   "source": [
    "# from CNN_LSTM import VisualCNN\n",
    "\n",
    "class BallPredictorCNN(nn.Module):\n",
    "    def __init__(self, n_raycasts=107):\n",
    "        \"\"\"\n",
    "        Args:\n",
    "            n_raycasts (int): The number of raycasts in the input vector (n).\n",
    "        \"\"\"\n",
    "        super(BallPredictorCNN, self).__init__()\n",
    "        \n",
    "        # We define the convolutional part of the network\n",
    "        self.convolutional_layers = nn.Sequential(\n",
    "            # Input shape: (batch_size, 1, n_raycasts)\n",
    "            # The '1' is the number of input channels.\n",
    "            nn.Conv1d(in_channels=1, out_channels=16, kernel_size=5, stride=1, padding=2),\n",
    "            # Shape: (batch_size, 16, n_raycasts)\n",
    "            nn.ReLU(),\n",
    "            nn.MaxPool1d(kernel_size=2, stride=2),\n",
    "            # Shape: (batch_size, 16, n_raycasts / 2)\n",
    "\n",
    "            nn.Conv1d(in_channels=16, out_channels=32, kernel_size=3, stride=1, padding=1),\n",
    "            # Shape: (batch_size, 32, n_raycasts / 2)\n",
    "            nn.ReLU(),\n",
    "            nn.MaxPool1d(kernel_size=2, stride=2)\n",
    "            # Shape: (batch_size, 32, n_raycasts / 4)\n",
    "        )\n",
    "        \n",
    "        # Calculate the size of the flattened layer after the convolutions\n",
    "        # This is a robust way to do it without manual calculation\n",
    "        with torch.no_grad():\n",
    "            dummy_input = torch.zeros(1, 1, n_raycasts)\n",
    "            flattened_size = self.convolutional_layers(dummy_input).flatten(1).shape[1]\n",
    "\n",
    "        # We define the fully connected (regression) part of the network\n",
    "        self.linear_layers = nn.Sequential(\n",
    "            nn.Linear(in_features=flattened_size, out_features=64),\n",
    "            nn.ReLU(),\n",
    "            nn.Dropout(0.2), # Dropout for regularization\n",
    "            nn.Linear(in_features=64, out_features=2) # Output layer for (x, z)\n",
    "        )\n",
    "\n",
    "    def forward(self, x):\n",
    "        \"\"\"\n",
    "        The forward pass of the model.\n",
    "        Args:\n",
    "            x (torch.Tensor): The input tensor of raycasts. \n",
    "                              Expected shape: (batch_size, n_raycasts)\n",
    "        \"\"\"\n",
    "        # Add a channel dimension for the Conv1d layers. Shape becomes (batch_size, 1, n_raycasts)\n",
    "        x = x.unsqueeze(1)\n",
    "        \n",
    "        # Pass through convolutional layers\n",
    "        x = self.convolutional_layers(x)\n",
    "        \n",
    "        # Flatten the output for the linear layers. Shape becomes (batch_size, flattened_size)\n",
    "        x = x.flatten(1)\n",
    "        \n",
    "        # Pass through linear layers to get the final prediction\n",
    "        prediction = self.linear_layers(x)\n",
    "        \n",
    "        return prediction\n",
    "\n",
    "# --- Example Usage ---\n",
    "# n_rays = 180\n",
    "# model = BallPredictorCNN(n_raycasts=n_rays)\n",
    "# \n",
    "# # Create a dummy batch of 32 samples\n",
    "# dummy_raycasts = torch.randn(32, n_rays) \n",
    "# \n",
    "# # Get the predicted positions\n",
    "# predicted_positions = model(dummy_raycasts)\n",
    "# \n",
    "# print(f\"Model Architecture:\\n{model}\")\n",
    "# print(f\"\\nInput shape: {dummy_raycasts.shape}\")\n",
    "# print(f\"Output shape: {predicted_positions.shape}\") # Should be (32, 2)"
   ]
  },
  {
   "cell_type": "code",
   "execution_count": 31,
   "id": "6b3502d5",
   "metadata": {},
   "outputs": [
    {
     "name": "stdout",
     "output_type": "stream",
     "text": [
      "Using GPU: CUDA\n"
     ]
    }
   ],
   "source": [
    "if torch.cuda.is_available():\n",
    "    device = torch.device(\"cuda\")\n",
    "    print(\"Using GPU: CUDA\")\n",
    "else:\n",
    "    device = torch.device(\"cpu\")\n",
    "    print(\"Using CPU\")"
   ]
  },
  {
   "cell_type": "code",
   "execution_count": 32,
   "id": "faa0063d",
   "metadata": {},
   "outputs": [
    {
     "name": "stdout",
     "output_type": "stream",
     "text": [
      "X_rays shape: (623757, 5, 107)\n",
      "Y_pos shape: (623757, 5, 2)\n",
      "Y_vel shape: (623757, 2)\n"
     ]
    }
   ],
   "source": [
    "X_rays = np.load('../data/CNN_LSTM/big_rays.npy')  # (N, T, R)\n",
    "Y_pos =  np.load('../data/CNN_LSTM/big_pos.npy')    # (N, T, 2)\n",
    "Y_vel =  np.load('../data/CNN_LSTM/big_vel.npy')    # (N, 2)\n",
    "print(\"X_rays shape:\", X_rays.shape)\n",
    "print(\"Y_pos shape:\", Y_pos.shape)\n",
    "print(\"Y_vel shape:\", Y_vel.shape)\n",
    "\n",
    "Y_pos_final = Y_pos[:, -1, :]  # position at last time step"
   ]
  },
  {
   "cell_type": "code",
   "execution_count": 33,
   "id": "5df6b745",
   "metadata": {},
   "outputs": [
    {
     "name": "stdout",
     "output_type": "stream",
     "text": [
      "Epoch 0: Loss = 0.0733\n",
      "Epoch 1: Loss = 0.0685\n",
      "Epoch 2: Loss = 0.0681\n",
      "Epoch 3: Loss = 0.0679\n",
      "Epoch 4: Loss = 0.0678\n",
      "Epoch 5: Loss = 0.0678\n",
      "Epoch 6: Loss = 0.0677\n",
      "Epoch 7: Loss = 0.0677\n",
      "Epoch 8: Loss = 0.0677\n",
      "Epoch 9: Loss = 0.0676\n",
      "Epoch 10: Loss = 0.0676\n",
      "Epoch 11: Loss = 0.0676\n",
      "Epoch 12: Loss = 0.0676\n",
      "Epoch 13: Loss = 0.0676\n",
      "Epoch 14: Loss = 0.0676\n",
      "Epoch 15: Loss = 0.0675\n",
      "Epoch 16: Loss = 0.0675\n",
      "Epoch 17: Loss = 0.0675\n",
      "Epoch 18: Loss = 0.0675\n",
      "Epoch 19: Loss = 0.0675\n",
      "Epoch 20: Loss = 0.0675\n",
      "Epoch 21: Loss = 0.0674\n",
      "Epoch 22: Loss = 0.0675\n",
      "Epoch 23: Loss = 0.0674\n",
      "Epoch 24: Loss = 0.0674\n"
     ]
    }
   ],
   "source": [
    "# === Flatten dataset for frame-level training ===\n",
    "# X_flat = X_rays.reshape(-1, X_rays.shape[2])           # (N*T, R)\n",
    "# Y_flat = Y_pos.reshape(-1, Y_pos.shape[2]) # (N*T, 2)\n",
    "\n",
    "X_tensor = torch.tensor(X_rays[:, -1, :], dtype=torch.float32)   # (N*T, R)\n",
    "Y_tensor = torch.tensor(Y_pos_final, dtype=torch.float32)   # (N*T, 2)\n",
    "\n",
    "dataset = TensorDataset(X_tensor, Y_tensor)\n",
    "loader = DataLoader(dataset, batch_size=32, shuffle=True)\n",
    "# loader = DataLoader(TensorDataset(torch.tensor(X_rays_test[:, -1, :], dtype=torch.float32), torch.tensor(Y_pos_test[:, -1,:], dtype=torch.float32)), batch_size=2, shuffle=True)\n",
    "\n",
    "# === Build model ===\n",
    "# model = VisualCNN(num_rays=X_rays.shape[2])\n",
    "# device = torch.device('cuda' if torch.cuda.is_available() else 'cpu')\n",
    "model = BallPredictorCNN(n_raycasts=X_rays.shape[2])#.to(device)\n",
    "optimizer = torch.optim.Adam(model.parameters(), lr=1e-3)\n",
    "criterion = nn.MSELoss()\n",
    "\n",
    "# === Train loop ===\n",
    "losses = []\n",
    "for epoch in range(10):\n",
    "    epoch_loss = 0\n",
    "    for xb, yb in loader:\n",
    "        pred = model(xb)               # xb: (B, R)\n",
    "        loss = criterion(pred, yb)     # yb: (B, 2)\n",
    "\n",
    "        optimizer.zero_grad()\n",
    "        loss.backward()\n",
    "        optimizer.step()\n",
    "\n",
    "        epoch_loss += loss.item()\n",
    "\n",
    "    avg_loss = epoch_loss / len(loader)\n",
    "    losses.append(avg_loss)\n",
    "    print(f\"Epoch {epoch}: Loss = {avg_loss:.4f}\")"
   ]
  },
  {
   "cell_type": "code",
   "execution_count": 17,
   "id": "fee6fcd4",
   "metadata": {},
   "outputs": [
    {
     "data": {
      "image/png": "[encoded data removed]",
      "text/plain": [
       "<Figure size 640x480 with 1 Axes>"
      ]
     },
     "metadata": {},
     "output_type": "display_data"
    }
   ],
   "source": [
    "plt.plot(losses)\n",
    "plt.xlabel(\"Epoch\")\n",
    "plt.ylabel(\"Loss\")\n",
    "plt.title(\"Gated Fusion Training Loss\")\n",
    "plt.grid(True)\n",
    "plt.show()"
   ]
  },
  {
   "cell_type": "code",
   "execution_count": 18,
   "id": "f028be09",
   "metadata": {},
   "outputs": [
    {
     "name": "stdout",
     "output_type": "stream",
     "text": [
      "X_rays_test shape: (4701, 5, 107)\n",
      "Y_pos_test shape: (4701, 5, 2)\n",
      "Y_pos_final_test shape: (4701, 2)\n"
     ]
    }
   ],
   "source": [
    "X_rays_test = np.load('../data/CNN_LSTM_test_rays.npy')  # (N, T, R)\n",
    "Y_pos_test =  np.load('../data/CNN_LSTM_test_pos.npy')    # (N, T, 2)\n",
    "print(\"X_rays_test shape:\", X_rays_test.shape)\n",
    "print(\"Y_pos_test shape:\", Y_pos_test.shape)\n",
    "\n",
    "Y_pos_final_test = Y_pos_test[:, -1, :]  # position at last time step\n",
    "print(\"Y_pos_final_test shape:\", Y_pos_final_test.shape)"
   ]
  },
  {
   "cell_type": "code",
   "execution_count": null,
   "id": "97179557",
   "metadata": {},
   "outputs": [
    {
     "name": "stdout",
     "output_type": "stream",
     "text": [
      "Predicted (x, y): [-1.1867406   0.02966267]\n",
      "Ground truth (x, y): [-1.2768506   0.03173229]\n"
     ]
    }
   ],
   "source": [
    "model.eval()\n",
    "with torch.no_grad():\n",
    "    i = np.random.randint(0, len(X_rays_test))\n",
    "    test_ray = torch.tensor(X_rays_test[i], dtype=torch.float32)\n",
    "    # print(\"Test ray shape:\", Y_pos_test[i:i+1].shape)\n",
    "    # prediction = model(test_ray, torch.zeros((1,5,2))).numpy()[0]\n",
    "    prediction = model(test_ray).to('cpu').numpy()[0]\n",
    "\n",
    "    print(\"Predicted (x, y):\", prediction)\n",
    "    print(\"Ground truth (x, y):\", Y_pos_final_test[i])\n"
   ]
  },
  {
   "cell_type": "code",
   "execution_count": 25,
   "id": "aa87ee3d",
   "metadata": {},
   "outputs": [],
   "source": [
    "true_pos = []\n",
    "cnn_pos = []\n",
    "\n",
    "model.eval()\n",
    "with torch.no_grad():\n",
    "    idx = np.random.randint(0, len(X_rays_test) - 1, 30)\n",
    "\n",
    "    for i in idx:\n",
    "        test_ray = torch.tensor(X_rays_test[i:i+1], dtype=torch.float32)\n",
    "\n",
    "        prediction = model(test_ray.squeeze(0)).to('cpu').numpy()[0]\n",
    "\n",
    "        true_pos.append(Y_pos_final_test[i])\n",
    "        cnn_pos.append(prediction)\n"
   ]
  },
  {
   "cell_type": "code",
   "execution_count": 26,
   "id": "fb1f128b",
   "metadata": {},
   "outputs": [],
   "source": [
    "x_coords_true_pos, y_coords_true_pos = zip(*true_pos)\n",
    "x_coords_cnn_pos, y_coords_cnn_pos = zip(*cnn_pos)"
   ]
  },
  {
   "cell_type": "code",
   "execution_count": 29,
   "id": "98658d39",
   "metadata": {},
   "outputs": [
    {
     "data": {
      "text/plain": [
       "<matplotlib.legend.Legend at 0x1d63dfb8f70>"
      ]
     },
     "execution_count": 29,
     "metadata": {},
     "output_type": "execute_result"
    },
    {
     "data": {
      "image/png": "[encoded data removed]",
      "text/plain": [
       "<Figure size 640x480 with 1 Axes>"
      ]
     },
     "metadata": {},
     "output_type": "display_data"
    }
   ],
   "source": [
    "plt.scatter(x_coords_true_pos, y_coords_true_pos, color='blue', label='True Position')\n",
    "plt.scatter(x_coords_cnn_pos, y_coords_cnn_pos, color='red', label='Predicted Position')\n",
    "for i in range(len(x_coords_true_pos)):\n",
    "    plt.arrow(x_coords_true_pos[i], y_coords_true_pos[i], x_coords_cnn_pos[i]-x_coords_true_pos[i], y_coords_cnn_pos[i]-y_coords_true_pos[i], \n",
    "              head_width=0.005, head_length=0.01, fc='purple', ec='purple', alpha=0.5, label=\"Arrow from True to Predicted Position\" if i == 0 else \"\")\n",
    "plt.title(\"True vs Predicted Position\")\n",
    "plt.xlabel(\"X Coordinate\")\n",
    "plt.ylabel(\"Z Coordinate\")\n",
    "plt.legend()"
   ]
  },
  {
   "cell_type": "markdown",
   "id": "8e9f48ee",
   "metadata": {},
   "source": [
    "# Transformer (Doesn't work super well)"
   ]
  },
  {
   "cell_type": "code",
   "execution_count": 5,
   "id": "ef24c85e",
   "metadata": {},
   "outputs": [],
   "source": [
    "class RayTransformer(nn.Module):\n",
    "    def __init__(self, num_rays, d_model=64, nhead=4):\n",
    "        super().__init__()\n",
    "        self.input_proj = nn.Linear(1, d_model)\n",
    "        encoder_layer = nn.TransformerEncoderLayer(d_model=d_model, nhead=nhead, batch_first=True)\n",
    "        self.transformer = nn.TransformerEncoder(encoder_layer, num_layers=2)\n",
    "        self.fc = nn.Sequential(\n",
    "            nn.Linear(d_model, 64),\n",
    "            nn.ReLU(),\n",
    "            nn.Linear(64, 2)  # Output x, z\n",
    "        )\n",
    "\n",
    "    def forward(self, x):\n",
    "        x = x.unsqueeze(-1)  # (B, R) → (B, R, 1)\n",
    "        x = self.input_proj(x)  # (B, R, d_model)\n",
    "        x = self.transformer(x)  # (B, R, d_model)\n",
    "        x = x.mean(dim=1)  # Mean pool over rays\n",
    "        return self.fc(x)"
   ]
  },
  {
   "cell_type": "code",
   "execution_count": null,
   "id": "7e7743a0",
   "metadata": {},
   "outputs": [
    {
     "name": "stderr",
     "output_type": "stream",
     "text": [
      "\n",
      "A module that was compiled using NumPy 1.x cannot be run in\n",
      "NumPy 2.2.6 as it may crash. To support both 1.x and 2.x\n",
      "versions of NumPy, modules must be compiled with NumPy 2.0.\n",
      "Some module may need to rebuild instead e.g. with 'pybind11>=2.12'.\n",
      "\n",
      "If you are a user of the module, the easiest solution will be to\n",
      "downgrade to 'numpy<2' or try to upgrade the affected module.\n",
      "We expect that some modules will need time to support NumPy 2.\n",
      "\n",
      "Traceback (most recent call last):  File \"c:\\Users\\griff\\anaconda3\\envs\\vision\\lib\\runpy.py\", line 196, in _run_module_as_main\n",
      "    return _run_code(code, main_globals, None,\n",
      "  File \"c:\\Users\\griff\\anaconda3\\envs\\vision\\lib\\runpy.py\", line 86, in _run_code\n",
      "    exec(code, run_globals)\n",
      "  File \"c:\\Users\\griff\\anaconda3\\envs\\vision\\lib\\site-packages\\ipykernel_launcher.py\", line 18, in <module>\n",
      "    app.launch_new_instance()\n",
      "  File \"c:\\Users\\griff\\anaconda3\\envs\\vision\\lib\\site-packages\\traitlets\\config\\application.py\", line 1075, in launch_instance\n",
      "    app.start()\n",
      "  File \"c:\\Users\\griff\\anaconda3\\envs\\vision\\lib\\site-packages\\ipykernel\\kernelapp.py\", line 739, in start\n",
      "    self.io_loop.start()\n",
      "  File \"c:\\Users\\griff\\anaconda3\\envs\\vision\\lib\\site-packages\\tornado\\platform\\asyncio.py\", line 211, in start\n",
      "    self.asyncio_loop.run_forever()\n",
      "  File \"c:\\Users\\griff\\anaconda3\\envs\\vision\\lib\\asyncio\\base_events.py\", line 603, in run_forever\n",
      "    self._run_once()\n",
      "  File \"c:\\Users\\griff\\anaconda3\\envs\\vision\\lib\\asyncio\\base_events.py\", line 1899, in _run_once\n",
      "    handle._run()\n",
      "  File \"c:\\Users\\griff\\anaconda3\\envs\\vision\\lib\\asyncio\\events.py\", line 80, in _run\n",
      "    self._context.run(self._callback, *self._args)\n",
      "  File \"c:\\Users\\griff\\anaconda3\\envs\\vision\\lib\\site-packages\\ipykernel\\kernelbase.py\", line 545, in dispatch_queue\n",
      "    await self.process_one()\n",
      "  File \"c:\\Users\\griff\\anaconda3\\envs\\vision\\lib\\site-packages\\ipykernel\\kernelbase.py\", line 534, in process_one\n",
      "    await dispatch(*args)\n",
      "  File \"c:\\Users\\griff\\anaconda3\\envs\\vision\\lib\\site-packages\\ipykernel\\kernelbase.py\", line 437, in dispatch_shell\n",
      "    await result\n",
      "  File \"c:\\Users\\griff\\anaconda3\\envs\\vision\\lib\\site-packages\\ipykernel\\ipkernel.py\", line 362, in execute_request\n",
      "    await super().execute_request(stream, ident, parent)\n",
      "  File \"c:\\Users\\griff\\anaconda3\\envs\\vision\\lib\\site-packages\\ipykernel\\kernelbase.py\", line 778, in execute_request\n",
      "    reply_content = await reply_content\n",
      "  File \"c:\\Users\\griff\\anaconda3\\envs\\vision\\lib\\site-packages\\ipykernel\\ipkernel.py\", line 449, in do_execute\n",
      "    res = shell.run_cell(\n",
      "  File \"c:\\Users\\griff\\anaconda3\\envs\\vision\\lib\\site-packages\\ipykernel\\zmqshell.py\", line 549, in run_cell\n",
      "    return super().run_cell(*args, **kwargs)\n",
      "  File \"c:\\Users\\griff\\anaconda3\\envs\\vision\\lib\\site-packages\\IPython\\core\\interactiveshell.py\", line 3077, in run_cell\n",
      "    result = self._run_cell(\n",
      "  File \"c:\\Users\\griff\\anaconda3\\envs\\vision\\lib\\site-packages\\IPython\\core\\interactiveshell.py\", line 3132, in _run_cell\n",
      "    result = runner(coro)\n",
      "  File \"c:\\Users\\griff\\anaconda3\\envs\\vision\\lib\\site-packages\\IPython\\core\\async_helpers.py\", line 128, in _pseudo_sync_runner\n",
      "    coro.send(None)\n",
      "  File \"c:\\Users\\griff\\anaconda3\\envs\\vision\\lib\\site-packages\\IPython\\core\\interactiveshell.py\", line 3336, in run_cell_async\n",
      "    has_raised = await self.run_ast_nodes(code_ast.body, cell_name,\n",
      "  File \"c:\\Users\\griff\\anaconda3\\envs\\vision\\lib\\site-packages\\IPython\\core\\interactiveshell.py\", line 3519, in run_ast_nodes\n",
      "    if await self.run_code(code, result, async_=asy):\n",
      "  File \"c:\\Users\\griff\\anaconda3\\envs\\vision\\lib\\site-packages\\IPython\\core\\interactiveshell.py\", line 3579, in run_code\n",
      "    exec(code_obj, self.user_global_ns, self.user_ns)\n",
      "  File \"C:\\Users\\griff\\AppData\\Local\\Temp\\ipykernel_39020\\724881526.py\", line 5, in <module>\n",
      "    X_tensor = torch.tensor(X_rays[:, -1, :], dtype=torch.float32)   # (N*T, R)\n",
      "C:\\Users\\griff\\AppData\\Local\\Temp\\ipykernel_39020\\724881526.py:5: UserWarning: Failed to initialize NumPy: _ARRAY_API not found (Triggered internally at ..\\torch\\csrc\\utils\\tensor_numpy.cpp:84.)\n",
      "  X_tensor = torch.tensor(X_rays[:, -1, :], dtype=torch.float32)   # (N*T, R)\n"
     ]
    },
    {
     "name": "stdout",
     "output_type": "stream",
     "text": [
      "Epoch 0: Loss = 0.1782\n",
      "Epoch 1: Loss = 0.1697\n",
      "Epoch 2: Loss = 0.1658\n",
      "Epoch 3: Loss = 0.1651\n",
      "Epoch 4: Loss = 0.1645\n",
      "Epoch 5: Loss = 0.1642\n",
      "Epoch 6: Loss = 0.1624\n",
      "Epoch 7: Loss = 0.1621\n"
     ]
    },
    {
     "ename": "KeyboardInterrupt",
     "evalue": "",
     "output_type": "error",
     "traceback": [
      "\u001b[1;31m---------------------------------------------------------------------------\u001b[0m",
      "\u001b[1;31mKeyboardInterrupt\u001b[0m                         Traceback (most recent call last)",
      "Cell \u001b[1;32mIn[6], line 29\u001b[0m\n\u001b[0;32m     27\u001b[0m \u001b[38;5;28;01mfor\u001b[39;00m epoch \u001b[38;5;129;01min\u001b[39;00m \u001b[38;5;28mrange\u001b[39m(\u001b[38;5;241m50\u001b[39m):\n\u001b[0;32m     28\u001b[0m     total_loss \u001b[38;5;241m=\u001b[39m \u001b[38;5;241m0\u001b[39m\n\u001b[1;32m---> 29\u001b[0m     \u001b[38;5;28;01mfor\u001b[39;00m xb, yb \u001b[38;5;129;01min\u001b[39;00m loader:\n\u001b[0;32m     30\u001b[0m         xb, yb \u001b[38;5;241m=\u001b[39m xb\u001b[38;5;241m.\u001b[39mto(device), yb\u001b[38;5;241m.\u001b[39mto(device)\n\u001b[0;32m     31\u001b[0m         pred \u001b[38;5;241m=\u001b[39m model(xb)\n",
      "File \u001b[1;32mc:\\Users\\griff\\anaconda3\\envs\\vision\\lib\\site-packages\\torch\\utils\\data\\dataloader.py:629\u001b[0m, in \u001b[0;36m_BaseDataLoaderIter.__next__\u001b[1;34m(self)\u001b[0m\n\u001b[0;32m    628\u001b[0m \u001b[38;5;28;01mdef\u001b[39;00m\u001b[38;5;250m \u001b[39m\u001b[38;5;21m__next__\u001b[39m(\u001b[38;5;28mself\u001b[39m) \u001b[38;5;241m-\u001b[39m\u001b[38;5;241m>\u001b[39m Any:\n\u001b[1;32m--> 629\u001b[0m     \u001b[38;5;28;01mwith\u001b[39;00m torch\u001b[38;5;241m.\u001b[39mautograd\u001b[38;5;241m.\u001b[39mprofiler\u001b[38;5;241m.\u001b[39mrecord_function(\u001b[38;5;28mself\u001b[39m\u001b[38;5;241m.\u001b[39m_profile_name):\n\u001b[0;32m    630\u001b[0m         \u001b[38;5;28;01mif\u001b[39;00m \u001b[38;5;28mself\u001b[39m\u001b[38;5;241m.\u001b[39m_sampler_iter \u001b[38;5;129;01mis\u001b[39;00m \u001b[38;5;28;01mNone\u001b[39;00m:\n\u001b[0;32m    631\u001b[0m             \u001b[38;5;66;03m# TODO(https://github.com/pytorch/pytorch/issues/76750)\u001b[39;00m\n\u001b[0;32m    632\u001b[0m             \u001b[38;5;28mself\u001b[39m\u001b[38;5;241m.\u001b[39m_reset()  \u001b[38;5;66;03m# type: ignore[call-arg]\u001b[39;00m\n",
      "File \u001b[1;32mc:\\Users\\griff\\anaconda3\\envs\\vision\\lib\\site-packages\\torch\\autograd\\profiler.py:492\u001b[0m, in \u001b[0;36mrecord_function.__enter__\u001b[1;34m(self)\u001b[0m\n\u001b[0;32m    491\u001b[0m \u001b[38;5;28;01mdef\u001b[39;00m\u001b[38;5;250m \u001b[39m\u001b[38;5;21m__enter__\u001b[39m(\u001b[38;5;28mself\u001b[39m):\n\u001b[1;32m--> 492\u001b[0m     \u001b[38;5;28mself\u001b[39m\u001b[38;5;241m.\u001b[39mrecord \u001b[38;5;241m=\u001b[39m \u001b[43mtorch\u001b[49m\u001b[38;5;241;43m.\u001b[39;49m\u001b[43mops\u001b[49m\u001b[38;5;241;43m.\u001b[39;49m\u001b[43mprofiler\u001b[49m\u001b[38;5;241;43m.\u001b[39;49m\u001b[43m_record_function_enter_new\u001b[49m\u001b[43m(\u001b[49m\u001b[38;5;28;43mself\u001b[39;49m\u001b[38;5;241;43m.\u001b[39;49m\u001b[43mname\u001b[49m\u001b[43m,\u001b[49m\u001b[43m \u001b[49m\u001b[38;5;28;43mself\u001b[39;49m\u001b[38;5;241;43m.\u001b[39;49m\u001b[43margs\u001b[49m\u001b[43m)\u001b[49m\n\u001b[0;32m    493\u001b[0m     \u001b[38;5;28;01mreturn\u001b[39;00m \u001b[38;5;28mself\u001b[39m\n",
      "File \u001b[1;32mc:\\Users\\griff\\anaconda3\\envs\\vision\\lib\\site-packages\\torch\\_ops.py:502\u001b[0m, in \u001b[0;36mOpOverloadPacket.__call__\u001b[1;34m(self, *args, **kwargs)\u001b[0m\n\u001b[0;32m    497\u001b[0m \u001b[38;5;28;01mdef\u001b[39;00m\u001b[38;5;250m \u001b[39m\u001b[38;5;21m__call__\u001b[39m(\u001b[38;5;28mself\u001b[39m, \u001b[38;5;241m*\u001b[39margs, \u001b[38;5;241m*\u001b[39m\u001b[38;5;241m*\u001b[39mkwargs):\n\u001b[0;32m    498\u001b[0m     \u001b[38;5;66;03m# overloading __call__ to ensure torch.ops.foo.bar()\u001b[39;00m\n\u001b[0;32m    499\u001b[0m     \u001b[38;5;66;03m# is still callable from JIT\u001b[39;00m\n\u001b[0;32m    500\u001b[0m     \u001b[38;5;66;03m# We save the function ptr as the `op` attribute on\u001b[39;00m\n\u001b[0;32m    501\u001b[0m     \u001b[38;5;66;03m# OpOverloadPacket to access it here.\u001b[39;00m\n\u001b[1;32m--> 502\u001b[0m     \u001b[38;5;28;01mreturn\u001b[39;00m \u001b[38;5;28mself\u001b[39m\u001b[38;5;241m.\u001b[39m_op(\u001b[38;5;241m*\u001b[39margs, \u001b[38;5;241m*\u001b[39m\u001b[38;5;241m*\u001b[39mkwargs \u001b[38;5;129;01mor\u001b[39;00m {})\n",
      "\u001b[1;31mKeyboardInterrupt\u001b[0m: "
     ]
    }
   ],
   "source": [
    "# === Flatten dataset for frame-level training ===\n",
    "# X_flat = X_rays.reshape(-1, X_rays.shape[2])           # (N*T, R)\n",
    "# Y_flat = Y_pos.reshape(-1, Y_pos.shape[2]) # (N*T, 2)\n",
    "\n",
    "X_tensor = torch.tensor(X_rays[:, -1, :], dtype=torch.float32)   # (N*T, R)\n",
    "Y_tensor = torch.tensor(Y_pos_final, dtype=torch.float32)   # (N*T, 2)\n",
    "\n",
    "ray_mean = X_tensor.mean()\n",
    "ray_std = X_tensor.std()\n",
    "X_tensor = (X_tensor - ray_mean) / ray_std\n",
    "\n",
    "target_mean = Y_tensor.mean(0)\n",
    "target_std = Y_tensor.std(0)\n",
    "Y_norm = (Y_tensor - target_mean) / target_std\n",
    "\n",
    "dataset = TensorDataset(X_tensor, Y_tensor)\n",
    "loader = DataLoader(dataset, batch_size=32, shuffle=True)\n",
    "\n",
    "# === Build model ===\n",
    "device = torch.device('cuda' if torch.cuda.is_available() else 'cpu')\n",
    "model = RayTransformer(num_rays=107).to(device)\n",
    "optimizer = torch.optim.Adam(model.parameters(), lr=1e-3)\n",
    "criterion = nn.MSELoss()\n",
    "\n",
    "# === Train loop ===\n",
    "losses = []\n",
    "for epoch in range(25):\n",
    "    total_loss = 0\n",
    "    for xb, yb in loader:\n",
    "        xb, yb = xb.to(device), yb.to(device)\n",
    "        pred = model(xb)\n",
    "        loss = criterion(pred, yb)\n",
    "\n",
    "        optimizer.zero_grad()\n",
    "        loss.backward()\n",
    "        optimizer.step()\n",
    "        total_loss += loss.item()\n",
    "\n",
    "    avg_loss = total_loss / len(loader)\n",
    "    losses.append(avg_loss)\n",
    "    print(f\"Epoch {epoch}: Loss = {avg_loss:.4f}\")"
   ]
  },
  {
   "cell_type": "code",
   "execution_count": 2,
   "id": "0f6bd9d8",
   "metadata": {},
   "outputs": [
    {
     "data": {
      "text/plain": [
       "True"
      ]
     },
     "execution_count": 2,
     "metadata": {},
     "output_type": "execute_result"
    }
   ],
   "source": [
    "torch.cuda.is_available()"
   ]
  },
  {
   "cell_type": "code",
   "execution_count": 5,
   "id": "ec549f3b",
   "metadata": {},
   "outputs": [],
   "source": [
    "torch.save(model.state_dict(), 'cnn.pth')"
   ]
  },
  {
   "cell_type": "code",
   "execution_count": 6,
   "id": "ca00c3bd",
   "metadata": {},
   "outputs": [
    {
     "ename": "NameError",
     "evalue": "name 'X_rays_test' is not defined",
     "output_type": "error",
     "traceback": [
      "\u001b[1;31m---------------------------------------------------------------------------\u001b[0m",
      "\u001b[1;31mNameError\u001b[0m                                 Traceback (most recent call last)",
      "Cell \u001b[1;32mIn[6], line 8\u001b[0m\n\u001b[0;32m      6\u001b[0m model\u001b[38;5;241m.\u001b[39meval()\n\u001b[0;32m      7\u001b[0m \u001b[38;5;28;01mwith\u001b[39;00m torch\u001b[38;5;241m.\u001b[39mno_grad():\n\u001b[1;32m----> 8\u001b[0m     idx \u001b[38;5;241m=\u001b[39m np\u001b[38;5;241m.\u001b[39mrandom\u001b[38;5;241m.\u001b[39mrandint(\u001b[38;5;241m0\u001b[39m, \u001b[38;5;28mlen\u001b[39m(\u001b[43mX_rays_test\u001b[49m) \u001b[38;5;241m-\u001b[39m \u001b[38;5;241m1\u001b[39m, \u001b[38;5;241m30\u001b[39m)\n\u001b[0;32m     10\u001b[0m     \u001b[38;5;28;01mfor\u001b[39;00m i \u001b[38;5;129;01min\u001b[39;00m idx:\n\u001b[0;32m     11\u001b[0m         test_ray \u001b[38;5;241m=\u001b[39m torch\u001b[38;5;241m.\u001b[39mtensor(X_rays_test[i], dtype\u001b[38;5;241m=\u001b[39mtorch\u001b[38;5;241m.\u001b[39mfloat32)\n",
      "\u001b[1;31mNameError\u001b[0m: name 'X_rays_test' is not defined"
     ]
    }
   ],
   "source": [
    "true_vel = []\n",
    "pred_vel = []\n",
    "true_pos = []\n",
    "pred_pos = []\n",
    "\n",
    "model.eval()\n",
    "with torch.no_grad():\n",
    "    idx = np.random.randint(0, len(X_rays_test) - 1, 30)\n",
    "\n",
    "    for i in idx:\n",
    "        test_ray = torch.tensor(X_rays_test[i], dtype=torch.float32)\n",
    "        test_pos = torch.tensor(Y_pos_test[i], dtype=torch.float32)\n",
    "        prediction = model(test_ray).numpy()[0]\n",
    "\n",
    "        true_pos.append(Y_pos_final_test[i])\n",
    "        pred_pos.append(prediction[:2])"
   ]
  },
  {
   "cell_type": "code",
   "execution_count": null,
   "id": "9486a374",
   "metadata": {},
   "outputs": [],
   "source": [
    "x_coords_true_pos, y_coords_true_pos = zip(*true_pos)\n",
    "x_coords_pred_pos, y_coords_pred_pos = zip(*pred_pos)"
   ]
  },
  {
   "cell_type": "code",
   "execution_count": null,
   "id": "98fbdf11",
   "metadata": {},
   "outputs": [],
   "source": [
    "plt.scatter(x_coords_true_pos, y_coords_true_pos, color='blue', label='True Position')\n",
    "plt.scatter(x_coords_pred_pos, y_coords_pred_pos, color='red', label='Predicted Position')\n",
    "for i in range(len(x_coords_true_vel)):\n",
    "    plt.arrow(x_coords_true_pos[i], y_coords_true_pos[i], x_coords_pred_pos[i]-x_coords_true_pos[i], y_coords_pred_pos[i]-y_coords_true_pos[i], \n",
    "              head_width=0.005, head_length=0.01, fc='purple', ec='purple', alpha=0.5, label=\"Arrow from True to Predicted Position\" if i == 0 else \"\")\n",
    "plt.title(\"True vs Predicted Position\")\n",
    "plt.xlabel(\"X Coordinate\")\n",
    "plt.ylabel(\"Z Coordinate\")\n",
    "plt.legend()"
   ]
  }
 ],
 "metadata": {
  "kernelspec": {
   "display_name": "vision",
   "language": "python",
   "name": "python3"
  },
  "language_info": {
   "codemirror_mode": {
    "name": "ipython",
    "version": 3
   },
   "file_extension": ".py",
   "mimetype": "text/x-python",
   "name": "python",
   "nbconvert_exporter": "python",
   "pygments_lexer": "ipython3",
   "version": "3.10.8"
  }
 },
 "nbformat": 4,
 "nbformat_minor": 5
}
