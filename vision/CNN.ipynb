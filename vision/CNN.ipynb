{
 "cells": [
  {
   "cell_type": "code",
   "execution_count": null,
   "id": "ff68164d",
   "metadata": {},
   "outputs": [],
   "source": []
  },
  {
   "cell_type": "code",
   "execution_count": 15,
   "id": "edffff34",
   "metadata": {},
   "outputs": [],
   "source": [
    "import numpy as np\n",
    "import torch\n",
    "import torch.nn as nn\n",
    "import torch.nn.functional as F\n",
    "from torch.utils.data import DataLoader, TensorDataset\n",
    "import matplotlib.pyplot as plt"
   ]
  },
  {
   "cell_type": "code",
   "execution_count": 16,
   "id": "3f8388f7",
   "metadata": {},
   "outputs": [],
   "source": [
    "from CNN_LSTM import VisualCNN"
   ]
  },
  {
   "cell_type": "code",
   "execution_count": 17,
   "id": "faa0063d",
   "metadata": {},
   "outputs": [
    {
     "name": "stdout",
     "output_type": "stream",
     "text": [
      "X_rays shape: (73763, 5, 107)\n",
      "Y_pos shape: (73763, 5, 2)\n",
      "Y_vel shape: (73763, 2)\n"
     ]
    }
   ],
   "source": [
    "X_rays = np.load('../data/CNN_LSTM/updated_rays.npy')  # (N, T, R)\n",
    "Y_pos =  np.load('../data/CNN_LSTM/updated_pos.npy')    # (N, T, 2)\n",
    "Y_vel =  np.load('../data/CNN_LSTM/updated_vel.npy')    # (N, 2)\n",
    "print(\"X_rays shape:\", X_rays.shape)\n",
    "print(\"Y_pos shape:\", Y_pos.shape)\n",
    "print(\"Y_vel shape:\", Y_vel.shape)\n",
    "\n",
    "Y_pos_final = Y_pos[:, -1, :]  # position at last time step"
   ]
  },
  {
   "cell_type": "code",
   "execution_count": null,
   "id": "5df6b745",
   "metadata": {},
   "outputs": [
    {
     "name": "stdout",
     "output_type": "stream",
     "text": [
      "Epoch 0: Loss = 0.2699\n",
      "Epoch 1: Loss = 0.1969\n",
      "Epoch 2: Loss = 0.1776\n",
      "Epoch 3: Loss = 0.1694\n",
      "Epoch 4: Loss = 0.1693\n",
      "Epoch 5: Loss = 0.1615\n",
      "Epoch 6: Loss = 0.1617\n",
      "Epoch 7: Loss = 0.1514\n",
      "Epoch 8: Loss = 0.1526\n",
      "Epoch 9: Loss = 0.1486\n",
      "Epoch 10: Loss = 0.1456\n",
      "Epoch 11: Loss = 0.1430\n",
      "Epoch 12: Loss = 0.1422\n",
      "Epoch 13: Loss = 0.1397\n",
      "Epoch 14: Loss = 0.1394\n",
      "Epoch 15: Loss = 0.1370\n",
      "Epoch 16: Loss = 0.1346\n",
      "Epoch 17: Loss = 0.1346\n",
      "Epoch 18: Loss = 0.1322\n",
      "Epoch 19: Loss = 0.1332\n",
      "Epoch 20: Loss = 0.1309\n",
      "Epoch 21: Loss = 0.1310\n",
      "Epoch 22: Loss = 0.1302\n",
      "Epoch 23: Loss = 0.1309\n",
      "Epoch 24: Loss = 0.1287\n",
      "Epoch 25: Loss = 0.1276\n",
      "Epoch 26: Loss = 0.1325\n",
      "Epoch 27: Loss = 0.1282\n",
      "Epoch 28: Loss = 0.1274\n",
      "Epoch 29: Loss = 0.1275\n",
      "Epoch 30: Loss = 0.1286\n",
      "Epoch 31: Loss = 0.1264\n",
      "Epoch 32: Loss = 0.1278\n",
      "Epoch 33: Loss = 0.1258\n",
      "Epoch 34: Loss = 0.1263\n",
      "Epoch 35: Loss = 0.1249\n",
      "Epoch 36: Loss = 0.1273\n",
      "Epoch 37: Loss = 0.1266\n",
      "Epoch 38: Loss = 0.1251\n",
      "Epoch 39: Loss = 0.1262\n",
      "Epoch 40: Loss = 0.1250\n",
      "Epoch 41: Loss = 0.1257\n",
      "Epoch 42: Loss = 0.1244\n",
      "Epoch 43: Loss = 0.1241\n",
      "Epoch 44: Loss = 0.1235\n",
      "Epoch 45: Loss = 0.1253\n",
      "Epoch 46: Loss = 0.1251\n",
      "Epoch 47: Loss = 0.1246\n",
      "Epoch 48: Loss = 0.1237\n",
      "Epoch 49: Loss = 0.1225\n"
     ]
    }
   ],
   "source": [
    "# === Flatten dataset for frame-level training ===\n",
    "# X_flat = X_rays.reshape(-1, X_rays.shape[2])           # (N*T, R)\n",
    "# Y_flat = Y_pos.reshape(-1, Y_pos.shape[2]) # (N*T, 2)\n",
    "\n",
    "X_tensor = torch.tensor(X_rays[:, -1, :], dtype=torch.float32)   # (N*T, R)\n",
    "Y_tensor = torch.tensor(Y_pos_final, dtype=torch.float32)   # (N*T, 2)\n",
    "\n",
    "dataset = TensorDataset(X_tensor, Y_tensor)\n",
    "# loader = DataLoader(dataset, batch_size=32, shuffle=True)\n",
    "loader = DataLoader(TensorDataset(torch.tensor(X_rays_test[:, -1, :], dtype=torch.float32), torch.tensor(Y_pos_test[:, -1,:], dtype=torch.float32)), batch_size=2, shuffle=True)\n",
    "\n",
    "# === Build model ===\n",
    "model = VisualCNN(num_rays=X_rays.shape[2])\n",
    "optimizer = torch.optim.Adam(model.parameters(), lr=1e-3)\n",
    "criterion = nn.MSELoss()\n",
    "\n",
    "# === Train loop ===\n",
    "losses = []\n",
    "for epoch in range(50):\n",
    "    epoch_loss = 0\n",
    "    for xb, yb in loader:\n",
    "        pred = model(xb)               # xb: (B, R)\n",
    "        loss = criterion(pred, yb)     # yb: (B, 2)\n",
    "\n",
    "        optimizer.zero_grad()\n",
    "        loss.backward()\n",
    "        optimizer.step()\n",
    "\n",
    "        epoch_loss += loss.item()\n",
    "\n",
    "    avg_loss = epoch_loss / len(loader)\n",
    "    losses.append(avg_loss)\n",
    "    print(f\"Epoch {epoch}: Loss = {avg_loss:.4f}\")\n",
    "\n",
    "\n",
    "# X_tensor = torch.tensor(X_rays, dtype=torch.float32)\n",
    "# Y_pos_tensor = torch.tensor(Y_pos, dtype=torch.float32)\n",
    "# Y_target = torch.tensor(np.concatenate([Y_pos_final, Y_vel], axis=1), dtype=torch.float32)\n",
    "\n",
    "# dataset = TensorDataset(X_tensor, Y_pos_tensor, Y_target)\n",
    "# loader = DataLoader(dataset, batch_size=32, shuffle=True)\n",
    "\n",
    "# model = GatedFusionModel(num_rays=X_rays.shape[2])\n",
    "# optimizer = torch.optim.Adam(model.parameters(), lr=1e-3)\n",
    "# criterion = nn.MSELoss()\n",
    "\n",
    "# losses = []\n",
    "# for epoch in range(50):\n",
    "#     epoch_loss = 0\n",
    "#     for xb_rays, xb_pos, yb in loader:\n",
    "#         pred = model(xb_rays, xb_pos)\n",
    "#         loss = criterion(pred, yb)\n",
    "#         optimizer.zero_grad()\n",
    "#         loss.backward()\n",
    "#         optimizer.step()\n",
    "#         epoch_loss += loss.item()\n",
    "#     avg_loss = epoch_loss / len(loader)\n",
    "#     losses.append(avg_loss)\n",
    "#     print(f\"Epoch {epoch}: Loss = {avg_loss:.4f}\")"
   ]
  },
  {
   "cell_type": "code",
   "execution_count": null,
   "id": "fee6fcd4",
   "metadata": {},
   "outputs": [
    {
     "data": {
      "image/png": "[encoded data removed]",
      "text/plain": [
       "<Figure size 640x480 with 1 Axes>"
      ]
     },
     "metadata": {},
     "output_type": "display_data"
    }
   ],
   "source": [
    "plt.plot(losses)\n",
    "plt.xlabel(\"Epoch\")\n",
    "plt.ylabel(\"Loss\")\n",
    "plt.title(\"Gated Fusion Training Loss\")\n",
    "plt.grid(True)\n",
    "plt.show()"
   ]
  },
  {
   "cell_type": "code",
   "execution_count": null,
   "id": "f028be09",
   "metadata": {},
   "outputs": [
    {
     "name": "stdout",
     "output_type": "stream",
     "text": [
      "X_rays_test shape: (4701, 5, 107)\n",
      "Y_pos_test shape: (4701, 5, 2)\n",
      "Y_pos_final_test shape: (4701, 2)\n"
     ]
    }
   ],
   "source": [
    "X_rays_test = np.load('../data/CNN_LSTM_test_rays.npy')  # (N, T, R)\n",
    "Y_pos_test =  np.load('../data/CNN_LSTM_test_pos.npy')    # (N, T, 2)\n",
    "print(\"X_rays_test shape:\", X_rays_test.shape)\n",
    "print(\"Y_pos_test shape:\", Y_pos_test.shape)\n",
    "\n",
    "Y_pos_final_test = Y_pos_test[:, -1, :]  # position at last time step\n",
    "print(\"Y_pos_final_test shape:\", Y_pos_final_test.shape)"
   ]
  },
  {
   "cell_type": "code",
   "execution_count": null,
   "id": "97179557",
   "metadata": {},
   "outputs": [
    {
     "name": "stderr",
     "output_type": "stream",
     "text": [
      "c:\\Users\\griff\\anaconda3\\envs\\vision\\lib\\site-packages\\torch\\nn\\modules\\loss.py:610: UserWarning: Using a target size (torch.Size([32, 2])) that is different to the input size (torch.Size([32, 0])). This will likely lead to incorrect results due to broadcasting. Please ensure they have the same size.\n",
      "  return F.mse_loss(input, target, reduction=self.reduction)\n"
     ]
    },
    {
     "ename": "RuntimeError",
     "evalue": "The size of tensor a (0) must match the size of tensor b (2) at non-singleton dimension 1",
     "output_type": "error",
     "traceback": [
      "\u001b[1;31m---------------------------------------------------------------------------\u001b[0m",
      "\u001b[1;31mRuntimeError\u001b[0m                              Traceback (most recent call last)",
      "Cell \u001b[1;32mIn[12], line 24\u001b[0m\n\u001b[0;32m     22\u001b[0m \u001b[38;5;66;03m# pred, cnn_pos = model(xb_rays)\u001b[39;00m\n\u001b[0;32m     23\u001b[0m loss_main \u001b[38;5;241m=\u001b[39m criterion(pred, yb)\n\u001b[1;32m---> 24\u001b[0m loss_cnn \u001b[38;5;241m=\u001b[39m \u001b[43mcriterion\u001b[49m\u001b[43m(\u001b[49m\u001b[43mcnn_pos\u001b[49m\u001b[43m,\u001b[49m\u001b[43m \u001b[49m\u001b[43myb\u001b[49m\u001b[43m[\u001b[49m\u001b[43m:\u001b[49m\u001b[43m,\u001b[49m\u001b[43m \u001b[49m\u001b[43m:\u001b[49m\u001b[38;5;241;43m2\u001b[39;49m\u001b[43m]\u001b[49m\u001b[43m)\u001b[49m  \u001b[38;5;66;03m# position only\u001b[39;00m\n\u001b[0;32m     25\u001b[0m loss \u001b[38;5;241m=\u001b[39m loss_main \u001b[38;5;241m+\u001b[39m \u001b[38;5;241m0.3\u001b[39m \u001b[38;5;241m*\u001b[39m loss_cnn  \u001b[38;5;66;03m# weighted training (try to make the CNN learn position)\u001b[39;00m\n\u001b[0;32m     27\u001b[0m optimizer\u001b[38;5;241m.\u001b[39mzero_grad()\n",
      "File \u001b[1;32mc:\\Users\\griff\\anaconda3\\envs\\vision\\lib\\site-packages\\torch\\nn\\modules\\module.py:1751\u001b[0m, in \u001b[0;36mModule._wrapped_call_impl\u001b[1;34m(self, *args, **kwargs)\u001b[0m\n\u001b[0;32m   1749\u001b[0m     \u001b[38;5;28;01mreturn\u001b[39;00m \u001b[38;5;28mself\u001b[39m\u001b[38;5;241m.\u001b[39m_compiled_call_impl(\u001b[38;5;241m*\u001b[39margs, \u001b[38;5;241m*\u001b[39m\u001b[38;5;241m*\u001b[39mkwargs)  \u001b[38;5;66;03m# type: ignore[misc]\u001b[39;00m\n\u001b[0;32m   1750\u001b[0m \u001b[38;5;28;01melse\u001b[39;00m:\n\u001b[1;32m-> 1751\u001b[0m     \u001b[38;5;28;01mreturn\u001b[39;00m \u001b[38;5;28mself\u001b[39m\u001b[38;5;241m.\u001b[39m_call_impl(\u001b[38;5;241m*\u001b[39margs, \u001b[38;5;241m*\u001b[39m\u001b[38;5;241m*\u001b[39mkwargs)\n",
      "File \u001b[1;32mc:\\Users\\griff\\anaconda3\\envs\\vision\\lib\\site-packages\\torch\\nn\\modules\\module.py:1762\u001b[0m, in \u001b[0;36mModule._call_impl\u001b[1;34m(self, *args, **kwargs)\u001b[0m\n\u001b[0;32m   1757\u001b[0m \u001b[38;5;66;03m# If we don't have any hooks, we want to skip the rest of the logic in\u001b[39;00m\n\u001b[0;32m   1758\u001b[0m \u001b[38;5;66;03m# this function, and just call forward.\u001b[39;00m\n\u001b[0;32m   1759\u001b[0m \u001b[38;5;28;01mif\u001b[39;00m \u001b[38;5;129;01mnot\u001b[39;00m (\u001b[38;5;28mself\u001b[39m\u001b[38;5;241m.\u001b[39m_backward_hooks \u001b[38;5;129;01mor\u001b[39;00m \u001b[38;5;28mself\u001b[39m\u001b[38;5;241m.\u001b[39m_backward_pre_hooks \u001b[38;5;129;01mor\u001b[39;00m \u001b[38;5;28mself\u001b[39m\u001b[38;5;241m.\u001b[39m_forward_hooks \u001b[38;5;129;01mor\u001b[39;00m \u001b[38;5;28mself\u001b[39m\u001b[38;5;241m.\u001b[39m_forward_pre_hooks\n\u001b[0;32m   1760\u001b[0m         \u001b[38;5;129;01mor\u001b[39;00m _global_backward_pre_hooks \u001b[38;5;129;01mor\u001b[39;00m _global_backward_hooks\n\u001b[0;32m   1761\u001b[0m         \u001b[38;5;129;01mor\u001b[39;00m _global_forward_hooks \u001b[38;5;129;01mor\u001b[39;00m _global_forward_pre_hooks):\n\u001b[1;32m-> 1762\u001b[0m     \u001b[38;5;28;01mreturn\u001b[39;00m forward_call(\u001b[38;5;241m*\u001b[39margs, \u001b[38;5;241m*\u001b[39m\u001b[38;5;241m*\u001b[39mkwargs)\n\u001b[0;32m   1764\u001b[0m result \u001b[38;5;241m=\u001b[39m \u001b[38;5;28;01mNone\u001b[39;00m\n\u001b[0;32m   1765\u001b[0m called_always_called_hooks \u001b[38;5;241m=\u001b[39m \u001b[38;5;28mset\u001b[39m()\n",
      "File \u001b[1;32mc:\\Users\\griff\\anaconda3\\envs\\vision\\lib\\site-packages\\torch\\nn\\modules\\loss.py:610\u001b[0m, in \u001b[0;36mMSELoss.forward\u001b[1;34m(self, input, target)\u001b[0m\n\u001b[0;32m    609\u001b[0m \u001b[38;5;28;01mdef\u001b[39;00m\u001b[38;5;250m \u001b[39m\u001b[38;5;21mforward\u001b[39m(\u001b[38;5;28mself\u001b[39m, \u001b[38;5;28minput\u001b[39m: Tensor, target: Tensor) \u001b[38;5;241m-\u001b[39m\u001b[38;5;241m>\u001b[39m Tensor:\n\u001b[1;32m--> 610\u001b[0m     \u001b[38;5;28;01mreturn\u001b[39;00m \u001b[43mF\u001b[49m\u001b[38;5;241;43m.\u001b[39;49m\u001b[43mmse_loss\u001b[49m\u001b[43m(\u001b[49m\u001b[38;5;28;43minput\u001b[39;49m\u001b[43m,\u001b[49m\u001b[43m \u001b[49m\u001b[43mtarget\u001b[49m\u001b[43m,\u001b[49m\u001b[43m \u001b[49m\u001b[43mreduction\u001b[49m\u001b[38;5;241;43m=\u001b[39;49m\u001b[38;5;28;43mself\u001b[39;49m\u001b[38;5;241;43m.\u001b[39;49m\u001b[43mreduction\u001b[49m\u001b[43m)\u001b[49m\n",
      "File \u001b[1;32mc:\\Users\\griff\\anaconda3\\envs\\vision\\lib\\site-packages\\torch\\nn\\functional.py:3884\u001b[0m, in \u001b[0;36mmse_loss\u001b[1;34m(input, target, size_average, reduce, reduction, weight)\u001b[0m\n\u001b[0;32m   3881\u001b[0m \u001b[38;5;28;01mif\u001b[39;00m size_average \u001b[38;5;129;01mis\u001b[39;00m \u001b[38;5;129;01mnot\u001b[39;00m \u001b[38;5;28;01mNone\u001b[39;00m \u001b[38;5;129;01mor\u001b[39;00m reduce \u001b[38;5;129;01mis\u001b[39;00m \u001b[38;5;129;01mnot\u001b[39;00m \u001b[38;5;28;01mNone\u001b[39;00m:\n\u001b[0;32m   3882\u001b[0m     reduction \u001b[38;5;241m=\u001b[39m _Reduction\u001b[38;5;241m.\u001b[39mlegacy_get_string(size_average, reduce)\n\u001b[1;32m-> 3884\u001b[0m expanded_input, expanded_target \u001b[38;5;241m=\u001b[39m \u001b[43mtorch\u001b[49m\u001b[38;5;241;43m.\u001b[39;49m\u001b[43mbroadcast_tensors\u001b[49m\u001b[43m(\u001b[49m\u001b[38;5;28;43minput\u001b[39;49m\u001b[43m,\u001b[49m\u001b[43m \u001b[49m\u001b[43mtarget\u001b[49m\u001b[43m)\u001b[49m\n\u001b[0;32m   3886\u001b[0m \u001b[38;5;28;01mif\u001b[39;00m weight \u001b[38;5;129;01mis\u001b[39;00m \u001b[38;5;129;01mnot\u001b[39;00m \u001b[38;5;28;01mNone\u001b[39;00m:\n\u001b[0;32m   3887\u001b[0m     \u001b[38;5;28;01mif\u001b[39;00m weight\u001b[38;5;241m.\u001b[39msize() \u001b[38;5;241m!=\u001b[39m \u001b[38;5;28minput\u001b[39m\u001b[38;5;241m.\u001b[39msize():\n",
      "File \u001b[1;32mc:\\Users\\griff\\anaconda3\\envs\\vision\\lib\\site-packages\\torch\\functional.py:77\u001b[0m, in \u001b[0;36mbroadcast_tensors\u001b[1;34m(*tensors)\u001b[0m\n\u001b[0;32m     75\u001b[0m \u001b[38;5;28;01mif\u001b[39;00m has_torch_function(tensors):\n\u001b[0;32m     76\u001b[0m     \u001b[38;5;28;01mreturn\u001b[39;00m handle_torch_function(broadcast_tensors, tensors, \u001b[38;5;241m*\u001b[39mtensors)\n\u001b[1;32m---> 77\u001b[0m \u001b[38;5;28;01mreturn\u001b[39;00m \u001b[43m_VF\u001b[49m\u001b[38;5;241;43m.\u001b[39;49m\u001b[43mbroadcast_tensors\u001b[49m\u001b[43m(\u001b[49m\u001b[43mtensors\u001b[49m\u001b[43m)\u001b[49m\n",
      "\u001b[1;31mRuntimeError\u001b[0m: The size of tensor a (0) must match the size of tensor b (2) at non-singleton dimension 1"
     ]
    }
   ],
   "source": [
    "model.eval()\n",
    "with torch.no_grad():\n",
    "    i = np.random.randint(0, len(X_rays_test))\n",
    "    test_ray = torch.tensor(X_rays_test[i:i+1], dtype=torch.float32)\n",
    "    test_pos = torch.tensor(Y_pos_test[i:i+1], dtype=torch.float32)\n",
    "    # print(\"Test ray shape:\", Y_pos_test[i:i+1].shape)\n",
    "    # prediction = model(test_ray, torch.zeros((1,5,2))).numpy()[0]\n",
    "    prediction = model(test_ray).numpy()[0]\n",
    "\n",
    "    print(\"Predicted (x, y, vx, vy):\", prediction)\n",
    "    print(\"Ground truth (x, y, vx, vy):\", np.concatenate([Y_pos_final_test[i], Y_vel_test[i]]))\n"
   ]
  },
  {
   "cell_type": "code",
   "execution_count": 13,
   "id": "f9018fb6",
   "metadata": {},
   "outputs": [
    {
     "ename": "NameError",
     "evalue": "name 'GatedFusionModel' is not defined",
     "output_type": "error",
     "traceback": [
      "\u001b[1;31m---------------------------------------------------------------------------\u001b[0m",
      "\u001b[1;31mNameError\u001b[0m                                 Traceback (most recent call last)",
      "Cell \u001b[1;32mIn[13], line 8\u001b[0m\n\u001b[0;32m      5\u001b[0m loader \u001b[38;5;241m=\u001b[39m DataLoader(dataset, batch_size\u001b[38;5;241m=\u001b[39m\u001b[38;5;241m32\u001b[39m, shuffle\u001b[38;5;241m=\u001b[39m\u001b[38;5;28;01mTrue\u001b[39;00m)\n\u001b[0;32m      7\u001b[0m \u001b[38;5;66;03m# === Build model ===\u001b[39;00m\n\u001b[1;32m----> 8\u001b[0m model \u001b[38;5;241m=\u001b[39m \u001b[43mGatedFusionModel\u001b[49m(num_rays\u001b[38;5;241m=\u001b[39mX_rays\u001b[38;5;241m.\u001b[39mshape[\u001b[38;5;241m2\u001b[39m])\n\u001b[0;32m      9\u001b[0m optimizer \u001b[38;5;241m=\u001b[39m torch\u001b[38;5;241m.\u001b[39moptim\u001b[38;5;241m.\u001b[39mAdam(model\u001b[38;5;241m.\u001b[39mparameters(), lr\u001b[38;5;241m=\u001b[39m\u001b[38;5;241m1e-3\u001b[39m)\n\u001b[0;32m     10\u001b[0m criterion \u001b[38;5;241m=\u001b[39m nn\u001b[38;5;241m.\u001b[39mMSELoss()\n",
      "\u001b[1;31mNameError\u001b[0m: name 'GatedFusionModel' is not defined"
     ]
    }
   ],
   "source": [
    "X_tensor = torch.tensor(X_rays, dtype=torch.float32)  # (N, T, R)\n",
    "Y_target = torch.tensor(np.concatenate([Y_pos_final], axis=1), dtype=torch.float32)  # (N, 4)\n",
    "\n",
    "dataset = TensorDataset(X_tensor, Y_target)\n",
    "loader = DataLoader(dataset, batch_size=32, shuffle=True)\n",
    "\n",
    "# === Build model ===\n",
    "model = GatedFusionModel(num_rays=X_rays.shape[2])\n",
    "optimizer = torch.optim.Adam(model.parameters(), lr=1e-3)\n",
    "criterion = nn.MSELoss()\n",
    "\n",
    "# === Train loop ===\n",
    "losses = []\n",
    "for epoch in range(50):\n",
    "    epoch_loss = 0\n",
    "    for xb_rays, yb in loader:\n",
    "        # pred = model(xb_rays) \n",
    "        # loss = criterion(pred, yb)\n",
    "        prediction = model(xb_rays)\n",
    "        pred = prediction[:, :4]  # position only\n",
    "        cnn_pos = prediction[:, 4:]\n",
    "        # pred, cnn_pos = model(xb_rays)\n",
    "        loss_main = criterion(pred, yb)\n",
    "        loss_cnn = criterion(cnn_pos, yb[:, :2])  # position only\n",
    "        loss = loss_main + 0.3 * loss_cnn  # weighted training (try to make the CNN learn position)\n",
    "\n",
    "        optimizer.zero_grad()\n",
    "        loss.backward()\n",
    "        optimizer.step()\n",
    "\n",
    "        epoch_loss += loss.item()\n",
    "\n",
    "    avg_loss = epoch_loss / len(loader)\n",
    "    losses.append(avg_loss)\n",
    "    print(f\"Epoch {epoch}: Loss = {avg_loss:.4f}\")\n",
    "\n",
    "# X_tensor = torch.tensor(X_rays, dtype=torch.float32)\n",
    "# Y_pos_tensor = torch.tensor(Y_pos, dtype=torch.float32)\n",
    "# Y_target = torch.tensor(np.concatenate([Y_pos_final, Y_vel], axis=1), dtype=torch.float32)\n",
    "\n",
    "# dataset = TensorDataset(X_tensor, Y_pos_tensor, Y_target)\n",
    "# loader = DataLoader(dataset, batch_size=32, shuffle=True)\n",
    "\n",
    "# model = GatedFusionModel(num_rays=X_rays.shape[2])\n",
    "# optimizer = torch.optim.Adam(model.parameters(), lr=1e-3)\n",
    "# criterion = nn.MSELoss()\n",
    "\n",
    "# losses = []\n",
    "# for epoch in range(50):\n",
    "#     epoch_loss = 0\n",
    "#     for xb_rays, xb_pos, yb in loader:\n",
    "#         pred = model(xb_rays, xb_pos)\n",
    "#         loss = criterion(pred, yb)\n",
    "#         optimizer.zero_grad()\n",
    "#         loss.backward()\n",
    "#         optimizer.step()\n",
    "#         epoch_loss += loss.item()\n",
    "#     avg_loss = epoch_loss / len(loader)\n",
    "#     losses.append(avg_loss)\n",
    "#     print(f\"Epoch {epoch}: Loss = {avg_loss:.4f}\")"
   ]
  },
  {
   "cell_type": "code",
   "execution_count": 24,
   "id": "ef24c85e",
   "metadata": {},
   "outputs": [],
   "source": [
    "class RayTransformer(nn.Module):\n",
    "    def __init__(self, num_rays, d_model=64, nhead=4):\n",
    "        super().__init__()\n",
    "        self.input_proj = nn.Linear(1, d_model)\n",
    "        encoder_layer = nn.TransformerEncoderLayer(d_model=d_model, nhead=nhead, batch_first=True)\n",
    "        self.transformer = nn.TransformerEncoder(encoder_layer, num_layers=2)\n",
    "        self.fc = nn.Sequential(\n",
    "            nn.Linear(d_model, 64),\n",
    "            nn.ReLU(),\n",
    "            nn.Linear(64, 2)  # Output x, z\n",
    "        )\n",
    "\n",
    "    def forward(self, x):\n",
    "        x = x.unsqueeze(-1)  # (B, R) → (B, R, 1)\n",
    "        x = self.input_proj(x)  # (B, R, d_model)\n",
    "        x = self.transformer(x)  # (B, R, d_model)\n",
    "        x = x.mean(dim=1)  # Mean pool over rays\n",
    "        return self.fc(x)"
   ]
  },
  {
   "cell_type": "code",
   "execution_count": null,
   "id": "7e7743a0",
   "metadata": {},
   "outputs": [],
   "source": [
    "# === Flatten dataset for frame-level training ===\n",
    "# X_flat = X_rays.reshape(-1, X_rays.shape[2])           # (N*T, R)\n",
    "# Y_flat = Y_pos.reshape(-1, Y_pos.shape[2]) # (N*T, 2)\n",
    "\n",
    "X_tensor = torch.tensor(X_rays[:, -1, :], dtype=torch.float32)   # (N*T, R)\n",
    "Y_tensor = torch.tensor(Y_pos_final, dtype=torch.float32)   # (N*T, 2)\n",
    "\n",
    "ray_mean = X_tensor.mean()\n",
    "ray_std = X_tensor.std()\n",
    "X_tensor = (X_tensor - ray_mean) / ray_std\n",
    "\n",
    "target_mean = Y_tensor.mean(0)\n",
    "target_std = Y_tensor.std(0)\n",
    "Y_norm = (Y_tensor - target_mean) / target_std\n",
    "\n",
    "dataset = TensorDataset(X_tensor, Y_tensor)\n",
    "loader = DataLoader(dataset, batch_size=32, shuffle=True)\n",
    "\n",
    "# === Build model ===\n",
    "device = torch.device('cuda' if torch.cuda.is_available() else 'cpu')\n",
    "model = RayTransformer(num_rays=107).to(device)\n",
    "optimizer = torch.optim.Adam(model.parameters(), lr=1e-3)\n",
    "criterion = nn.MSELoss()\n",
    "\n",
    "# === Train loop ===\n",
    "losses = []\n",
    "for epoch in range(50):\n",
    "    total_loss = 0\n",
    "    for xb, yb in loader:\n",
    "        xb, yb = xb.to(device), yb.to(device)\n",
    "        pred = model(xb)\n",
    "        loss = criterion(pred, yb)\n",
    "\n",
    "        optimizer.zero_grad()\n",
    "        loss.backward()\n",
    "        optimizer.step()\n",
    "        total_loss += loss.item()\n",
    "\n",
    "    avg_loss = total_loss / len(loader)\n",
    "    losses.append(avg_loss)\n",
    "    print(f\"Epoch {epoch}: Loss = {avg_loss:.4f}\")"
   ]
  },
  {
   "cell_type": "code",
   "execution_count": null,
   "id": "0f6bd9d8",
   "metadata": {},
   "outputs": [],
   "source": []
  }
 ],
 "metadata": {
  "kernelspec": {
   "display_name": "vision",
   "language": "python",
   "name": "python3"
  },
  "language_info": {
   "codemirror_mode": {
    "name": "ipython",
    "version": 3
   },
   "file_extension": ".py",
   "mimetype": "text/x-python",
   "name": "python",
   "nbconvert_exporter": "python",
   "pygments_lexer": "ipython3",
   "version": "3.10.8"
  }
 },
 "nbformat": 4,
 "nbformat_minor": 5
}
