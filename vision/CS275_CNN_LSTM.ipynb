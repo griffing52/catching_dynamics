{
  "cells": [
    {
      "cell_type": "code",
      "execution_count": 3,
      "metadata": {},
      "outputs": [
        {
          "name": "stdout",
          "output_type": "stream",
          "text": [
            "Requirement already satisfied: torch in c:\\users\\griff\\anaconda3\\envs\\vision\\lib\\site-packages (2.7.1)Note: you may need to restart the kernel to use updated packages.\n",
            "\n",
            "Requirement already satisfied: sympy>=1.13.3 in c:\\users\\griff\\anaconda3\\envs\\vision\\lib\\site-packages (from torch) (1.14.0)\n",
            "Requirement already satisfied: jinja2 in c:\\users\\griff\\anaconda3\\envs\\vision\\lib\\site-packages (from torch) (3.1.6)\n",
            "Requirement already satisfied: filelock in c:\\users\\griff\\anaconda3\\envs\\vision\\lib\\site-packages (from torch) (3.18.0)\n",
            "Requirement already satisfied: fsspec in c:\\users\\griff\\anaconda3\\envs\\vision\\lib\\site-packages (from torch) (2025.5.1)\n",
            "Requirement already satisfied: typing-extensions>=4.10.0 in c:\\users\\griff\\anaconda3\\envs\\vision\\lib\\site-packages (from torch) (4.14.0)\n",
            "Requirement already satisfied: networkx in c:\\users\\griff\\anaconda3\\envs\\vision\\lib\\site-packages (from torch) (3.4.2)\n",
            "Requirement already satisfied: mpmath<1.4,>=1.1.0 in c:\\users\\griff\\anaconda3\\envs\\vision\\lib\\site-packages (from sympy>=1.13.3->torch) (1.3.0)\n",
            "Requirement already satisfied: MarkupSafe>=2.0 in c:\\users\\griff\\anaconda3\\envs\\vision\\lib\\site-packages (from jinja2->torch) (3.0.2)\n",
            "Collecting matplotlib\n",
            "  Downloading matplotlib-3.10.3-cp310-cp310-win_amd64.whl (8.1 MB)\n",
            "     ---------------------------------------- 8.1/8.1 MB 276.4 kB/s eta 0:00:00\n",
            "Requirement already satisfied: packaging>=20.0 in c:\\users\\griff\\anaconda3\\envs\\vision\\lib\\site-packages (from matplotlib) (25.0)\n",
            "Collecting cycler>=0.10\n",
            "  Using cached cycler-0.12.1-py3-none-any.whl (8.3 kB)\n",
            "Collecting fonttools>=4.22.0\n",
            "  Downloading fonttools-4.58.4-cp310-cp310-win_amd64.whl (2.2 MB)\n",
            "     ---------------------------------------- 2.2/2.2 MB 1.0 MB/s eta 0:00:00\n",
            "Collecting pyparsing>=2.3.1\n",
            "  Using cached pyparsing-3.2.3-py3-none-any.whl (111 kB)\n",
            "Requirement already satisfied: python-dateutil>=2.7 in c:\\users\\griff\\anaconda3\\envs\\vision\\lib\\site-packages (from matplotlib) (2.9.0.post0)\n",
            "Collecting numpy>=1.23\n",
            "  Downloading numpy-2.2.6-cp310-cp310-win_amd64.whl (12.9 MB)\n",
            "     -------------------------------------- 12.9/12.9 MB 726.9 kB/s eta 0:00:00\n",
            "Collecting kiwisolver>=1.3.1\n",
            "  Downloading kiwisolver-1.4.8-cp310-cp310-win_amd64.whl (71 kB)\n",
            "     -------------------------------------- 71.9/71.9 kB 395.2 kB/s eta 0:00:00\n",
            "Collecting contourpy>=1.0.1\n",
            "  Downloading contourpy-1.3.2-cp310-cp310-win_amd64.whl (221 kB)\n",
            "     ------------------------------------ 221.2/221.2 kB 518.3 kB/s eta 0:00:00\n",
            "Collecting pillow>=8\n",
            "  Downloading pillow-11.2.1-cp310-cp310-win_amd64.whl (2.7 MB)\n",
            "     ---------------------------------------- 2.7/2.7 MB 476.6 kB/s eta 0:00:00\n",
            "Requirement already satisfied: six>=1.5 in c:\\users\\griff\\anaconda3\\envs\\vision\\lib\\site-packages (from python-dateutil>=2.7->matplotlib) (1.17.0)\n",
            "Installing collected packages: pyparsing, pillow, numpy, kiwisolver, fonttools, cycler, contourpy, matplotlib\n",
            "Successfully installed contourpy-1.3.2 cycler-0.12.1 fonttools-4.58.4 kiwisolver-1.4.8 matplotlib-3.10.3 numpy-2.2.6 pillow-11.2.1 pyparsing-3.2.3\n",
            "Note: you may need to restart the kernel to use updated packages.\n",
            "Requirement already satisfied: numpy in c:\\users\\griff\\anaconda3\\envs\\vision\\lib\\site-packages (2.2.6)\n",
            "Note: you may need to restart the kernel to use updated packages.\n"
          ]
        }
      ],
      "source": [
        "%pip install torch\n",
        "%pip install matplotlib\n",
        "%pip install numpy"
      ]
    },
    {
      "cell_type": "code",
      "execution_count": 30,
      "metadata": {
        "id": "gz06DjjE3Vmx"
      },
      "outputs": [],
      "source": [
        "# Raycast-Based Ball Position & Velocity Prediction\n",
        "# Inspired by biological vision\n",
        "\n",
        "import numpy as np\n",
        "import matplotlib.pyplot as plt\n",
        "import torch\n",
        "import torch.nn as nn\n",
        "import torch.nn.functional as F\n",
        "from torch.utils.data import DataLoader, TensorDataset\n",
        "# CNN + LSTM Gated Fusion Model for Biologically Inspired Object Tracking\n",
        "# Input: 1D raycast data simulating \"vision\"\n",
        "# Output: Position and velocity prediction using learned gating\n",
        "\n"
      ]
    },
    {
      "cell_type": "markdown",
      "metadata": {
        "id": "KJ31eMER-ISk"
      },
      "source": [
        "# 1. Simulated Raycast Generator"
      ]
    },
    {
      "cell_type": "code",
      "execution_count": 31,
      "metadata": {
        "id": "gs75E1k-3Y_f"
      },
      "outputs": [],
      "source": [
        "# def simulate_raycast_sequence(seq_len=5, num_rays=16, fov=np.pi, ball_radius=0.1):\n",
        "#     ray_angles = np.linspace(-fov / 2, fov / 2, num_rays)\n",
        "#     ball_pos = np.random.uniform(low=[-1, 0.2], high=[1, 0.8])\n",
        "#     ball_vel = np.random.uniform(low=[-0.05, -0.02], high=[0.05, 0.02])\n",
        "\n",
        "#     eyeball_pos = np.array([0.0, 0.0])\n",
        "#     raycast_sequence = []\n",
        "#     position_sequence = []\n",
        "\n",
        "#     for t in range(seq_len):\n",
        "#         rays = []\n",
        "#         ball_c = ball_pos + ball_vel * t\n",
        "\n",
        "#         for angle in ray_angles:\n",
        "#             dir_vec = np.array([np.cos(angle), np.sin(angle)])\n",
        "#             oc = ball_c - eyeball_pos\n",
        "#             b = 2 * np.dot(oc, dir_vec)\n",
        "#             c = np.dot(oc, oc) - ball_radius**2\n",
        "#             discriminant = b**2 - 4 * c\n",
        "#             if discriminant < 0:\n",
        "#                 rays.append(10.0)  # No hit\n",
        "#             else:\n",
        "#                 dist = (-b - np.sqrt(discriminant)) / 2\n",
        "#                 rays.append(max(dist, 0.0))\n",
        "\n",
        "#         raycast_sequence.append(rays)\n",
        "#         position_sequence.append(ball_c)\n",
        "\n",
        "#     raycast_sequence = np.array(raycast_sequence)  # (T, R)\n",
        "#     position_sequence = np.array(position_sequence)  # (T, 2)\n",
        "#     velocity = ball_vel  # (2,)\n",
        "#     return raycast_sequence, position_sequence, velocity"
      ]
    },
    {
      "cell_type": "code",
      "execution_count": 32,
      "metadata": {
        "id": "mJh7wdW63da2"
      },
      "outputs": [],
      "source": [
        "# Generate dataset\n",
        "# X_rays, Y_pos, Y_vel = [], [], []\n",
        "# for _ in range(5000):\n",
        "#     rays, pos, vel = simulate_raycast_sequence()\n",
        "#     X_rays.append(rays)\n",
        "#     Y_pos.append(pos)\n",
        "#     Y_vel.append(vel)\n",
        "\n",
        "# X_rays = np.stack(X_rays)  # (N, T, R)\n",
        "# Y_pos = np.stack(Y_pos)    # (N, T, 2)\n",
        "# Y_vel = np.stack(Y_vel)    # (N, 2)\n",
        "\n",
        "# # Predict final frame only\n",
        "# Y_pos_final = Y_pos[:, -1, :]  # position at last time step\n"
      ]
    },
    {
      "cell_type": "markdown",
      "metadata": {
        "id": "v2hJyjgufUsW"
      },
      "source": [
        "# Load Data"
      ]
    },
    {
      "cell_type": "code",
      "execution_count": 35,
      "metadata": {
        "colab": {
          "base_uri": "https://localhost:8080/"
        },
        "id": "0Es3iqoOfUFg",
        "outputId": "a94465c5-ce51-4c60-c918-25137b9e3138"
      },
      "outputs": [
        {
          "name": "stdout",
          "output_type": "stream",
          "text": [
            "X_rays shape: (73763, 5, 107)\n",
            "Y_pos shape: (73763, 5, 2)\n",
            "Y_vel shape: (73763, 2)\n"
          ]
        }
      ],
      "source": [
        "# X_rays = np.load('../data/CNN_LSTM_rays.npy')  # (N, T, R)\n",
        "# Y_pos =  np.load('../data/CNN_LSTM_pos.npy')    # (N, T, 2)\n",
        "# Y_vel =  np.load('../data/CNN_LSTM_vel.npy')    # (N, 2)\n",
        "X_rays = np.load('../data/CNN_LSTM/updated_rays.npy')  # (N, T, R)\n",
        "Y_pos =  np.load('../data/CNN_LSTM/updated_pos.npy')    # (N, T, 2)\n",
        "Y_vel =  np.load('../data/CNN_LSTM/updated_vel.npy')    # (N, 2)\n",
        "print(\"X_rays shape:\", X_rays.shape)\n",
        "print(\"Y_pos shape:\", Y_pos.shape)\n",
        "print(\"Y_vel shape:\", Y_vel.shape)\n",
        "\n",
        "Y_pos_final = Y_pos[:, -1, :]  # position at last time step"
      ]
    },
    {
      "cell_type": "code",
      "execution_count": 36,
      "metadata": {},
      "outputs": [
        {
          "name": "stdout",
          "output_type": "stream",
          "text": [
            "[-1.09932458  0.39055876] [0.93548959 0.53597203]\n"
          ]
        }
      ],
      "source": [
        "print(np.mean(Y_pos_final, axis=0), np.std(Y_pos_final, axis=0))"
      ]
    },
    {
      "cell_type": "markdown",
      "metadata": {
        "id": "hKrtBdtt-NPR"
      },
      "source": [
        "# Visualize a Sample"
      ]
    },
    {
      "cell_type": "code",
      "execution_count": 38,
      "metadata": {
        "colab": {
          "base_uri": "https://localhost:8080/",
          "height": 472
        },
        "id": "L2rfQxNd3fIY",
        "outputId": "2c4d8c3f-b5c5-409d-93a3-ec0c40536d02"
      },
      "outputs": [
        {
          "data": {
            "image/png": "[encoded data removed]",
            "text/plain": [
              "<Figure size 640x480 with 2 Axes>"
            ]
          },
          "metadata": {},
          "output_type": "display_data"
        }
      ],
      "source": [
        "def visualize_rays(ray_seq):\n",
        "    plt.imshow(ray_seq.T, aspect='auto', cmap='viridis')\n",
        "    plt.xlabel(\"Time step\")\n",
        "    plt.ylabel(\"Ray index\")\n",
        "    plt.title(\"Simulated Raycast Sequence\")\n",
        "    plt.colorbar(label=\"Distance\")\n",
        "    plt.show()\n",
        "\n",
        "visualize_rays(X_rays[6])\n",
        "\n"
      ]
    },
    {
      "cell_type": "markdown",
      "metadata": {
        "id": "19BQGf4zg6lx"
      },
      "source": [
        "# Model Definition"
      ]
    },
    {
      "cell_type": "code",
      "execution_count": 39,
      "metadata": {
        "id": "6L9-SCRg3hKq"
      },
      "outputs": [],
      "source": [
        "class VisualCNN(nn.Module):\n",
        "    def __init__(self, num_rays):\n",
        "        super().__init__()\n",
        "        self.cnn = nn.Sequential(\n",
        "            nn.Conv1d(1, 16, kernel_size=3, padding=1),\n",
        "            nn.ReLU(),\n",
        "            nn.Conv1d(16, 32, kernel_size=3, padding=1),\n",
        "            nn.ReLU(),\n",
        "            nn.AdaptiveAvgPool1d(1)\n",
        "        )\n",
        "        self.fc = nn.Linear(32, 2)  # Predict x, y position\n",
        "\n",
        "    def forward(self, x):\n",
        "        x = x.unsqueeze(1)  # (B, 1, R)\n",
        "        features = self.cnn(x).squeeze(-1)  # (B, 32)\n",
        "        return self.fc(features)  # (B, 2)\n",
        "\n",
        "class MotionLSTM(nn.Module):\n",
        "    def __init__(self, input_size=2, hidden_size=32):\n",
        "        super().__init__()\n",
        "        self.lstm = nn.LSTM(input_size, hidden_size, batch_first=True)\n",
        "        self.fc = nn.Linear(hidden_size, 4)  # Predict x, y, vx, vy\n",
        "\n",
        "    def forward(self, x):\n",
        "        out, _ = self.lstm(x)  # (B, T, H)\n",
        "        return self.fc(out[:, -1])  # (B, 4)\n",
        "\n",
        "class GatingNetwork(nn.Module):\n",
        "    def __init__(self, input_size):\n",
        "        super().__init__()\n",
        "        self.fc = nn.Sequential(\n",
        "            nn.Linear(input_size, 32),\n",
        "            nn.ReLU(),\n",
        "            nn.Linear(32, 1),\n",
        "            nn.Sigmoid()\n",
        "        )\n",
        "\n",
        "    def forward(self, cnn_feat, lstm_feat):\n",
        "        x = torch.cat([cnn_feat, lstm_feat], dim=-1)\n",
        "        return self.fc(x)  # scalar gate between 0 and 1\n",
        "\n",
        "class GatedFusionModel(nn.Module):\n",
        "    def __init__(self, num_rays):\n",
        "        super().__init__()\n",
        "        self.visual_cnn = VisualCNN(num_rays)\n",
        "        self.motion_lstm = MotionLSTM()\n",
        "        self.gating_net = GatingNetwork(input_size=6)  # [x,y] from CNN + [x,y,vx,vy] from LSTM\n",
        "\n",
        "    def forward(self, rays_seq, pos_seq):\n",
        "        cnn_input = rays_seq[:, -1, :]  # last frame (B, R)\n",
        "        lstm_input = pos_seq  # (B, T, 2)\n",
        "\n",
        "        v_spatial = self.visual_cnn(cnn_input)  # (B, 2)\n",
        "        l_spatial = self.motion_lstm(lstm_input)  # (B, 4)\n",
        "\n",
        "        g = self.gating_net(v_spatial, l_spatial)  # (B, 1)\n",
        "        s_pos = g * v_spatial + (1 - g) * l_spatial[:, :2]  # final position\n",
        "        s_vel = l_spatial[:, 2:]  # only LSTM predicts velocity\n",
        "        return torch.cat([s_pos, s_vel], dim=-1)  # (B, 4)"
      ]
    },
    {
      "cell_type": "markdown",
      "metadata": {
        "id": "OdhKgqRYhSjk"
      },
      "source": [
        "# Training"
      ]
    },
    {
      "cell_type": "code",
      "execution_count": 40,
      "metadata": {
        "colab": {
          "base_uri": "https://localhost:8080/"
        },
        "id": "tHFQBWmr3iW4",
        "outputId": "d13dcf06-2efb-4598-a7b3-7124283d2887"
      },
      "outputs": [
        {
          "name": "stdout",
          "output_type": "stream",
          "text": [
            "Epoch 0: Loss = 0.7644\n",
            "Epoch 1: Loss = 0.3445\n",
            "Epoch 2: Loss = 0.2449\n",
            "Epoch 3: Loss = 0.1916\n",
            "Epoch 4: Loss = 0.1512\n",
            "Epoch 5: Loss = 0.1219\n",
            "Epoch 6: Loss = 0.1013\n",
            "Epoch 7: Loss = 0.0864\n",
            "Epoch 8: Loss = 0.0765\n",
            "Epoch 9: Loss = 0.0696\n",
            "Epoch 10: Loss = 0.0628\n",
            "Epoch 11: Loss = 0.0590\n",
            "Epoch 12: Loss = 0.0551\n",
            "Epoch 13: Loss = 0.0508\n",
            "Epoch 14: Loss = 0.0486\n",
            "Epoch 15: Loss = 0.0463\n",
            "Epoch 16: Loss = 0.0454\n",
            "Epoch 17: Loss = 0.0435\n",
            "Epoch 18: Loss = 0.0423\n",
            "Epoch 19: Loss = 0.0406\n",
            "Epoch 20: Loss = 0.0402\n",
            "Epoch 21: Loss = 0.0390\n",
            "Epoch 22: Loss = 0.0387\n",
            "Epoch 23: Loss = 0.0370\n",
            "Epoch 24: Loss = 0.0370\n",
            "Epoch 25: Loss = 0.0361\n",
            "Epoch 26: Loss = 0.0358\n",
            "Epoch 27: Loss = 0.0354\n",
            "Epoch 28: Loss = 0.0347\n",
            "Epoch 29: Loss = 0.0343\n",
            "Epoch 30: Loss = 0.0342\n",
            "Epoch 31: Loss = 0.0336\n",
            "Epoch 32: Loss = 0.0333\n",
            "Epoch 33: Loss = 0.0327\n",
            "Epoch 34: Loss = 0.0325\n",
            "Epoch 35: Loss = 0.0324\n",
            "Epoch 36: Loss = 0.0317\n",
            "Epoch 37: Loss = 0.0316\n",
            "Epoch 38: Loss = 0.0311\n",
            "Epoch 39: Loss = 0.0311\n",
            "Epoch 40: Loss = 0.0309\n",
            "Epoch 41: Loss = 0.0303\n",
            "Epoch 42: Loss = 0.0303\n",
            "Epoch 43: Loss = 0.0301\n",
            "Epoch 44: Loss = 0.0297\n",
            "Epoch 45: Loss = 0.0296\n",
            "Epoch 46: Loss = 0.0296\n",
            "Epoch 47: Loss = 0.0287\n",
            "Epoch 48: Loss = 0.0289\n",
            "Epoch 49: Loss = 0.0284\n"
          ]
        }
      ],
      "source": [
        "X_tensor = torch.tensor(X_rays, dtype=torch.float32)\n",
        "Y_pos_tensor = torch.tensor(Y_pos, dtype=torch.float32)\n",
        "Y_target = torch.tensor(np.concatenate([Y_pos_final, Y_vel], axis=1), dtype=torch.float32)\n",
        "\n",
        "dataset = TensorDataset(X_tensor, Y_pos_tensor, Y_target)\n",
        "loader = DataLoader(dataset, batch_size=32, shuffle=True)\n",
        "\n",
        "model = GatedFusionModel(num_rays=X_rays.shape[2])\n",
        "optimizer = torch.optim.Adam(model.parameters(), lr=1e-3)\n",
        "criterion = nn.MSELoss()\n",
        "\n",
        "losses = []\n",
        "for epoch in range(50):\n",
        "    epoch_loss = 0\n",
        "    for xb_rays, xb_pos, yb in loader:\n",
        "        pred = model(xb_rays, xb_pos)\n",
        "        loss = criterion(pred, yb)\n",
        "        optimizer.zero_grad()\n",
        "        loss.backward()\n",
        "        optimizer.step()\n",
        "        epoch_loss += loss.item()\n",
        "    avg_loss = epoch_loss / len(loader)\n",
        "    losses.append(avg_loss)\n",
        "    print(f\"Epoch {epoch}: Loss = {avg_loss:.4f}\")"
      ]
    },
    {
      "cell_type": "code",
      "execution_count": 41,
      "metadata": {
        "colab": {
          "base_uri": "https://localhost:8080/",
          "height": 472
        },
        "id": "fjDHZI0K3juY",
        "outputId": "eba81e21-f5ca-419e-c709-d30cff3dc836"
      },
      "outputs": [
        {
          "data": {
            "image/png": "[encoded data removed]",
            "text/plain": [
              "<Figure size 640x480 with 1 Axes>"
            ]
          },
          "metadata": {},
          "output_type": "display_data"
        }
      ],
      "source": [
        "plt.plot(losses)\n",
        "plt.xlabel(\"Epoch\")\n",
        "plt.ylabel(\"Loss\")\n",
        "plt.title(\"Gated Fusion Training Loss\")\n",
        "plt.grid(True)\n",
        "plt.show()"
      ]
    },
    {
      "cell_type": "markdown",
      "metadata": {
        "id": "B_0RZia6h94K"
      },
      "source": [
        "# Eval"
      ]
    },
    {
      "cell_type": "code",
      "execution_count": 42,
      "metadata": {
        "id": "OSSNt5ahjAsd"
      },
      "outputs": [
        {
          "name": "stdout",
          "output_type": "stream",
          "text": [
            "X_rays_test shape: (4701, 5, 107)\n",
            "Y_pos_test shape: (4701, 5, 2)\n",
            "Y_vel_test shape: (4701, 2)\n"
          ]
        }
      ],
      "source": [
        "X_rays_test = np.load('../data/CNN_LSTM_test_rays.npy')  # (N, T, R)\n",
        "Y_pos_test =  np.load('../data/CNN_LSTM_test_pos.npy')    # (N, T, 2)\n",
        "Y_vel_test =  np.load('../data/CNN_LSTM_test_vel.npy')    # (N, 2)\n",
        "print(\"X_rays_test shape:\", X_rays_test.shape)\n",
        "print(\"Y_pos_test shape:\", Y_pos_test.shape)\n",
        "print(\"Y_vel_test shape:\", Y_vel_test.shape)\n",
        "\n",
        "Y_pos_final_test = Y_pos_test[:, -1, :]  # position at last time step"
      ]
    },
    {
      "cell_type": "code",
      "execution_count": 43,
      "metadata": {
        "colab": {
          "base_uri": "https://localhost:8080/"
        },
        "id": "fdIfqR523kA4",
        "outputId": "b06d91a8-e4fa-4085-a0fc-0a3e21cd7c8b"
      },
      "outputs": [
        {
          "name": "stdout",
          "output_type": "stream",
          "text": [
            "Predicted (x, y, vx, vy): [-1.1737049e+00  2.7960896e-02 -1.7748970e-01  4.6914816e-04]\n",
            "Ground truth (x, y, vx, vy): [-1.17389025e+00  3.17325402e-02 -1.71623740e-01  7.49844837e-08]\n"
          ]
        }
      ],
      "source": [
        "# model.eval()\n",
        "# with torch.no_grad():\n",
        "#     idx = np.random.randint(0, len(X_rays_test))\n",
        "#     test_ray = torch.tensor(X_rays_test[idx], dtype=torch.float32)\n",
        "#     test_pos = torch.tensor(Y_pos[idx], dtype=torch.float32)\n",
        "#     test_vel = torch.tensor(Y_vel[idx], dtype=torch.float32)\n",
        "#     prediction = model(test_ray, test_pos).numpy()[0]\n",
        "\n",
        "#     print(\"Predicted (x, y, vx, vy):\", prediction)\n",
        "#     print(\"Ground truth (x, y, vx, vy):\", np.concatenate([Y_pos_final[idx], Y_vel[idx]]))\n",
        "\n",
        "model.eval()\n",
        "with torch.no_grad():\n",
        "    i = np.random.randint(0, len(X_rays_test))\n",
        "    test_ray = torch.tensor(X_rays_test[i:i+1], dtype=torch.float32)\n",
        "    test_pos = torch.tensor(Y_pos_test[i:i+1], dtype=torch.float32)\n",
        "    # print(\"Test ray shape:\", Y_pos_test[i:i+1].shape)\n",
        "    # prediction = model(test_ray, torch.zeros((1,5,2))).numpy()[0]\n",
        "    prediction = model(test_ray, test_pos).numpy()[0]\n",
        "\n",
        "    print(\"Predicted (x, y, vx, vy):\", prediction)\n",
        "    print(\"Ground truth (x, y, vx, vy):\", np.concatenate([Y_pos_final_test[i], Y_vel_test[i]]))\n"
      ]
    },
    {
      "cell_type": "code",
      "execution_count": 44,
      "metadata": {
        "colab": {
          "base_uri": "https://localhost:8080/"
        },
        "id": "DxhNjZ0JyrtH",
        "outputId": "777e398e-beaa-44d6-c2e4-15e19fd69de2"
      },
      "outputs": [],
      "source": [
        "true_vel = []\n",
        "pred_vel = []\n",
        "true_pos = []\n",
        "pred_pos = []\n",
        "\n",
        "model.eval()\n",
        "with torch.no_grad():\n",
        "    idx = np.random.randint(0, len(X_rays_test) - 1, 30)\n",
        "\n",
        "    for i in idx:\n",
        "        test_ray = torch.tensor(X_rays_test[i:i+1], dtype=torch.float32)\n",
        "        test_pos = torch.tensor(Y_pos_test[i:i+1], dtype=torch.float32)\n",
        "        prediction = model(test_ray, test_pos).numpy()[0]\n",
        "\n",
        "        true_pos.append(Y_pos_final_test[i])\n",
        "        true_vel.append(Y_vel_test[i])\n",
        "        pred_pos.append(prediction[:2])\n",
        "        pred_vel.append(prediction[2:])\n",
        "\n",
        "    # print(\"Predicted (x, y, vx, vy):\", prediction)\n",
        "    # print(\"Ground truth (x, y, vx, vy):\", np.concatenate([Y_pos_final_test[i], Y_vel_test[i]]))"
      ]
    },
    {
      "cell_type": "code",
      "execution_count": 45,
      "metadata": {
        "id": "tEyIdyQ-2Hht"
      },
      "outputs": [],
      "source": [
        "x_coords_true_vel, y_coords_true_vel = zip(*true_vel)\n",
        "x_coords_pred_vel, y_coords_pred_vel = zip(*pred_vel)\n",
        "x_coords_true_pos, y_coords_true_pos = zip(*true_pos)\n",
        "x_coords_pred_pos, y_coords_pred_pos = zip(*pred_pos)"
      ]
    },
    {
      "cell_type": "code",
      "execution_count": 46,
      "metadata": {},
      "outputs": [
        {
          "data": {
            "text/plain": [
              "<matplotlib.legend.Legend at 0x237a8292650>"
            ]
          },
          "execution_count": 46,
          "metadata": {},
          "output_type": "execute_result"
        },
        {
          "data": {
            "image/png": "[encoded data removed]",
            "text/plain": [
              "<Figure size 640x480 with 1 Axes>"
            ]
          },
          "metadata": {},
          "output_type": "display_data"
        }
      ],
      "source": [
        "plt.scatter(x_coords_true_vel, y_coords_true_vel, color='blue', label='True Velocity')\n",
        "plt.scatter(x_coords_pred_vel, y_coords_pred_vel, color='red', label='Predicted Velocity')\n",
        "for i in range(len(x_coords_true_vel)):\n",
        "    plt.arrow(x_coords_true_vel[i], y_coords_true_vel[i], x_coords_pred_vel[i]-x_coords_true_vel[i], y_coords_pred_vel[i]-y_coords_true_vel[i], \n",
        "              head_width=0.02, head_length=0.05, fc='green', ec='green', alpha=0.5, label=\"Arrow from True to Predicted Velocity\" if i == 0 else \"\")\n",
        "plt.title(\"True vs Predicted Velocity\")\n",
        "plt.xlabel(\"X Velocity\")\n",
        "plt.ylabel(\"Z Velocity\")\n",
        "plt.legend()\n"
      ]
    },
    {
      "cell_type": "code",
      "execution_count": 47,
      "metadata": {},
      "outputs": [
        {
          "data": {
            "text/plain": [
              "<matplotlib.legend.Legend at 0x2378fc8dc90>"
            ]
          },
          "execution_count": 47,
          "metadata": {},
          "output_type": "execute_result"
        },
        {
          "data": {
            "image/png": "[encoded data removed]",
            "text/plain": [
              "<Figure size 640x480 with 1 Axes>"
            ]
          },
          "metadata": {},
          "output_type": "display_data"
        }
      ],
      "source": [
        "plt.scatter(x_coords_true_pos, y_coords_true_pos, color='blue', label='True Position')\n",
        "plt.scatter(x_coords_pred_pos, y_coords_pred_pos, color='red', label='Predicted Position')\n",
        "for i in range(len(x_coords_true_vel)):\n",
        "    plt.arrow(x_coords_true_pos[i], y_coords_true_pos[i], x_coords_pred_pos[i]-x_coords_true_pos[i], y_coords_pred_pos[i]-y_coords_true_pos[i], \n",
        "              head_width=0.005, head_length=0.01, fc='purple', ec='purple', alpha=0.5, label=\"Arrow from True to Predicted Position\" if i == 0 else \"\")\n",
        "plt.title(\"True vs Predicted Position\")\n",
        "plt.xlabel(\"X Coordinate\")\n",
        "plt.ylabel(\"Z Coordinate\")\n",
        "plt.legend()"
      ]
    },
    {
      "cell_type": "markdown",
      "metadata": {},
      "source": [
        "# Save Model"
      ]
    },
    {
      "cell_type": "code",
      "execution_count": 48,
      "metadata": {},
      "outputs": [],
      "source": [
        "torch.save(model.state_dict(), \"gated_model.pth\")"
      ]
    },
    {
      "cell_type": "code",
      "execution_count": null,
      "metadata": {},
      "outputs": [],
      "source": []
    }
  ],
  "metadata": {
    "colab": {
      "provenance": []
    },
    "kernelspec": {
      "display_name": "vision",
      "language": "python",
      "name": "python3"
    },
    "language_info": {
      "codemirror_mode": {
        "name": "ipython",
        "version": 3
      },
      "file_extension": ".py",
      "mimetype": "text/x-python",
      "name": "python",
      "nbconvert_exporter": "python",
      "pygments_lexer": "ipython3",
      "version": "3.10.8"
    }
  },
  "nbformat": 4,
  "nbformat_minor": 0
}
