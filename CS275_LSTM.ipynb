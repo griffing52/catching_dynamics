{
  "cells": [
    {
      "cell_type": "code",
      "execution_count": 3,
      "metadata": {},
      "outputs": [
        {
          "name": "stdout",
          "output_type": "stream",
          "text": [
            "Requirement already satisfied: torch in c:\\users\\griff\\anaconda3\\envs\\vision\\lib\\site-packages (2.7.1)Note: you may need to restart the kernel to use updated packages.\n",
            "\n",
            "Requirement already satisfied: sympy>=1.13.3 in c:\\users\\griff\\anaconda3\\envs\\vision\\lib\\site-packages (from torch) (1.14.0)\n",
            "Requirement already satisfied: jinja2 in c:\\users\\griff\\anaconda3\\envs\\vision\\lib\\site-packages (from torch) (3.1.6)\n",
            "Requirement already satisfied: filelock in c:\\users\\griff\\anaconda3\\envs\\vision\\lib\\site-packages (from torch) (3.18.0)\n",
            "Requirement already satisfied: fsspec in c:\\users\\griff\\anaconda3\\envs\\vision\\lib\\site-packages (from torch) (2025.5.1)\n",
            "Requirement already satisfied: typing-extensions>=4.10.0 in c:\\users\\griff\\anaconda3\\envs\\vision\\lib\\site-packages (from torch) (4.14.0)\n",
            "Requirement already satisfied: networkx in c:\\users\\griff\\anaconda3\\envs\\vision\\lib\\site-packages (from torch) (3.4.2)\n",
            "Requirement already satisfied: mpmath<1.4,>=1.1.0 in c:\\users\\griff\\anaconda3\\envs\\vision\\lib\\site-packages (from sympy>=1.13.3->torch) (1.3.0)\n",
            "Requirement already satisfied: MarkupSafe>=2.0 in c:\\users\\griff\\anaconda3\\envs\\vision\\lib\\site-packages (from jinja2->torch) (3.0.2)\n",
            "Collecting matplotlib\n",
            "  Downloading matplotlib-3.10.3-cp310-cp310-win_amd64.whl (8.1 MB)\n",
            "     ---------------------------------------- 8.1/8.1 MB 276.4 kB/s eta 0:00:00\n",
            "Requirement already satisfied: packaging>=20.0 in c:\\users\\griff\\anaconda3\\envs\\vision\\lib\\site-packages (from matplotlib) (25.0)\n",
            "Collecting cycler>=0.10\n",
            "  Using cached cycler-0.12.1-py3-none-any.whl (8.3 kB)\n",
            "Collecting fonttools>=4.22.0\n",
            "  Downloading fonttools-4.58.4-cp310-cp310-win_amd64.whl (2.2 MB)\n",
            "     ---------------------------------------- 2.2/2.2 MB 1.0 MB/s eta 0:00:00\n",
            "Collecting pyparsing>=2.3.1\n",
            "  Using cached pyparsing-3.2.3-py3-none-any.whl (111 kB)\n",
            "Requirement already satisfied: python-dateutil>=2.7 in c:\\users\\griff\\anaconda3\\envs\\vision\\lib\\site-packages (from matplotlib) (2.9.0.post0)\n",
            "Collecting numpy>=1.23\n",
            "  Downloading numpy-2.2.6-cp310-cp310-win_amd64.whl (12.9 MB)\n",
            "     -------------------------------------- 12.9/12.9 MB 726.9 kB/s eta 0:00:00\n",
            "Collecting kiwisolver>=1.3.1\n",
            "  Downloading kiwisolver-1.4.8-cp310-cp310-win_amd64.whl (71 kB)\n",
            "     -------------------------------------- 71.9/71.9 kB 395.2 kB/s eta 0:00:00\n",
            "Collecting contourpy>=1.0.1\n",
            "  Downloading contourpy-1.3.2-cp310-cp310-win_amd64.whl (221 kB)\n",
            "     ------------------------------------ 221.2/221.2 kB 518.3 kB/s eta 0:00:00\n",
            "Collecting pillow>=8\n",
            "  Downloading pillow-11.2.1-cp310-cp310-win_amd64.whl (2.7 MB)\n",
            "     ---------------------------------------- 2.7/2.7 MB 476.6 kB/s eta 0:00:00\n",
            "Requirement already satisfied: six>=1.5 in c:\\users\\griff\\anaconda3\\envs\\vision\\lib\\site-packages (from python-dateutil>=2.7->matplotlib) (1.17.0)\n",
            "Installing collected packages: pyparsing, pillow, numpy, kiwisolver, fonttools, cycler, contourpy, matplotlib\n",
            "Successfully installed contourpy-1.3.2 cycler-0.12.1 fonttools-4.58.4 kiwisolver-1.4.8 matplotlib-3.10.3 numpy-2.2.6 pillow-11.2.1 pyparsing-3.2.3\n",
            "Note: you may need to restart the kernel to use updated packages.\n",
            "Requirement already satisfied: numpy in c:\\users\\griff\\anaconda3\\envs\\vision\\lib\\site-packages (2.2.6)\n",
            "Note: you may need to restart the kernel to use updated packages.\n"
          ]
        }
      ],
      "source": [
        "%pip install torch\n",
        "%pip install matplotlib\n",
        "%pip install numpy"
      ]
    },
    {
      "cell_type": "code",
      "execution_count": 4,
      "metadata": {
        "id": "gz06DjjE3Vmx"
      },
      "outputs": [],
      "source": [
        "# Raycast-Based Ball Position & Velocity Prediction\n",
        "# Inspired by biological vision\n",
        "\n",
        "import numpy as np\n",
        "import matplotlib.pyplot as plt\n",
        "import torch\n",
        "import torch.nn as nn\n",
        "from torch.utils.data import DataLoader, TensorDataset\n"
      ]
    },
    {
      "cell_type": "markdown",
      "metadata": {
        "id": "KJ31eMER-ISk"
      },
      "source": [
        "# 1. Simulated Raycast Generator"
      ]
    },
    {
      "cell_type": "code",
      "execution_count": 28,
      "metadata": {
        "id": "gs75E1k-3Y_f"
      },
      "outputs": [],
      "source": [
        "# def simulate_raycast_sequence(seq_len=5, num_rays=16, fov=60, starting_angle=-30, max_range=5.5, ball_radius=0.022):\n",
        "#     ray_angles = np.linspace(fov / 2, fov / 2, num_rays) + starting_angle\n",
        "#     ray_angles = np.deg2rad(ray_angles)\n",
        "#     ball_pos = np.random.uniform(low=[-1, 0.2], high=[1, 0.8])\n",
        "#     ball_vel = np.random.uniform(low=[-0.05, -0.02], high=[0.05, 0.02])\n",
        "\n",
        "#     eyeball_pos = np.array([0.0, 0.0])\n",
        "#     sequence = []\n",
        "\n",
        "#     for t in range(seq_len):\n",
        "#         rays = []\n",
        "#         ball_c = ball_pos + ball_vel * t\n",
        "\n",
        "#         for angle in ray_angles:\n",
        "#             dir_vec = np.array([np.cos(angle), np.sin(angle)])\n",
        "#             oc = ball_c - eyeball_pos\n",
        "#             b = 2 * np.dot(oc, dir_vec)\n",
        "#             c = np.dot(oc, oc) - ball_radius**2\n",
        "#             discriminant = b**2 - 4 * c\n",
        "#             if discriminant < 0:\n",
        "#                 rays.append(10.0)  # No hit\n",
        "#             else:\n",
        "#                 dist = (-b - np.sqrt(discriminant)) / 2\n",
        "#                 rays.append(max(dist, 0.0))\n",
        "\n",
        "#         sequence.append(rays)\n",
        "\n",
        "#     return np.array(sequence), np.concatenate([ball_c, ball_vel])"
      ]
    },
    {
      "cell_type": "code",
      "execution_count": 29,
      "metadata": {
        "id": "mJh7wdW63da2"
      },
      "outputs": [],
      "source": [
        "# # Generate dataset\n",
        "# X, y = [], []\n",
        "# for _ in range(10000):\n",
        "#     ray_seq, target = simulate_raycast_sequence()\n",
        "#     X.append(ray_seq)\n",
        "#     y.append(target)\n",
        "\n",
        "# X = np.stack(X)  # (N, T, R)\n",
        "# y = np.stack(y)  # (N, 4)"
      ]
    },
    {
      "cell_type": "markdown",
      "metadata": {
        "id": "v2hJyjgufUsW"
      },
      "source": [
        "# 1. Load Data"
      ]
    },
    {
      "cell_type": "code",
      "execution_count": 6,
      "metadata": {
        "colab": {
          "base_uri": "https://localhost:8080/"
        },
        "id": "0Es3iqoOfUFg",
        "outputId": "a94465c5-ce51-4c60-c918-25137b9e3138"
      },
      "outputs": [
        {
          "name": "stdout",
          "output_type": "stream",
          "text": [
            "Input shape: (158479, 5, 107)\n",
            "Output shape: (158479, 4)\n"
          ]
        }
      ],
      "source": [
        "X = np.load('data/collected_data_big_input.npy')\n",
        "y = np.load('data/collected_data_big_output.npy')\n",
        "# X = np.load('/content/drive/MyDrive/data/collected_data_big_input.npy')\n",
        "# y = np.load('/content/drive/MyDrive/data/collected_data_big_output.npy')\n",
        "print(\"Input shape:\", X.shape)\n",
        "print(\"Output shape:\", y.shape)"
      ]
    },
    {
      "cell_type": "markdown",
      "metadata": {
        "id": "hKrtBdtt-NPR"
      },
      "source": [
        "# 2. Visualize a Sample"
      ]
    },
    {
      "cell_type": "code",
      "execution_count": 7,
      "metadata": {
        "colab": {
          "base_uri": "https://localhost:8080/",
          "height": 472
        },
        "id": "L2rfQxNd3fIY",
        "outputId": "2c4d8c3f-b5c5-409d-93a3-ec0c40536d02"
      },
      "outputs": [
        {
          "data": {
            "image/png": "[encoded data removed]",
            "text/plain": [
              "<Figure size 640x480 with 2 Axes>"
            ]
          },
          "metadata": {},
          "output_type": "display_data"
        }
      ],
      "source": [
        "# -----------------------------\n",
        "# 2. Visualize a Sample\n",
        "# -----------------------------\n",
        "def visualize_rays(ray_seq):\n",
        "    plt.imshow(ray_seq.T, aspect='auto', cmap='viridis')\n",
        "    plt.xlabel(\"Time step\")\n",
        "    plt.ylabel(\"Ray index\")\n",
        "    plt.title(\"Simulated Raycast Sequence\")\n",
        "    plt.colorbar(label=\"Distance\")\n",
        "    plt.show()\n",
        "\n",
        "visualize_rays(X[0])\n",
        "\n"
      ]
    },
    {
      "cell_type": "markdown",
      "metadata": {
        "id": "19BQGf4zg6lx"
      },
      "source": [
        "# LSTM Model"
      ]
    },
    {
      "cell_type": "code",
      "execution_count": 8,
      "metadata": {
        "id": "6L9-SCRg3hKq"
      },
      "outputs": [],
      "source": [
        "class RaycastLSTM(nn.Module):\n",
        "    def __init__(self, num_rays, hidden_size=64, output_size=4):\n",
        "        super().__init__()\n",
        "        self.lstm = nn.LSTM(input_size=num_rays, hidden_size=hidden_size, batch_first=True)\n",
        "        self.fc = nn.Sequential(\n",
        "            nn.Linear(hidden_size, 64),\n",
        "            nn.ReLU(),\n",
        "            nn.Linear(64, output_size)\n",
        "        )\n",
        "\n",
        "    def forward(self, x):\n",
        "        lstm_out, _ = self.lstm(x)\n",
        "        last_output = lstm_out[:, -1, :]\n",
        "        return self.fc(last_output)\n"
      ]
    },
    {
      "cell_type": "markdown",
      "metadata": {
        "id": "OdhKgqRYhSjk"
      },
      "source": [
        "# 4. Training"
      ]
    },
    {
      "cell_type": "code",
      "execution_count": 9,
      "metadata": {
        "colab": {
          "base_uri": "https://localhost:8080/"
        },
        "id": "tHFQBWmr3iW4",
        "outputId": "d13dcf06-2efb-4598-a7b3-7124283d2887"
      },
      "outputs": [
        {
          "name": "stdout",
          "output_type": "stream",
          "text": [
            "Epoch 0: Loss = 0.9454\n",
            "Epoch 1: Loss = 0.6897\n",
            "Epoch 2: Loss = 0.6206\n",
            "Epoch 3: Loss = 0.5799\n",
            "Epoch 4: Loss = 0.5511\n",
            "Epoch 5: Loss = 0.5278\n",
            "Epoch 6: Loss = 0.5097\n",
            "Epoch 7: Loss = 0.4954\n",
            "Epoch 8: Loss = 0.4816\n",
            "Epoch 9: Loss = 0.4715\n",
            "Epoch 10: Loss = 0.4623\n",
            "Epoch 11: Loss = 0.4536\n",
            "Epoch 12: Loss = 0.4465\n",
            "Epoch 13: Loss = 0.4393\n",
            "Epoch 14: Loss = 0.4328\n",
            "Epoch 15: Loss = 0.4272\n",
            "Epoch 16: Loss = 0.4210\n",
            "Epoch 17: Loss = 0.4147\n",
            "Epoch 18: Loss = 0.4098\n",
            "Epoch 19: Loss = 0.4047\n"
          ]
        }
      ],
      "source": [
        "X_tensor = torch.tensor(X, dtype=torch.float32)\n",
        "y_tensor = torch.tensor(y, dtype=torch.float32)\n",
        "\n",
        "dataset = TensorDataset(X_tensor, y_tensor)\n",
        "loader = DataLoader(dataset, batch_size=32, shuffle=True)\n",
        "\n",
        "model = RaycastLSTM(num_rays=X.shape[2])\n",
        "criterion = nn.MSELoss()\n",
        "optimizer = torch.optim.Adam(model.parameters(), lr=1e-4)\n",
        "\n",
        "losses = []\n",
        "for epoch in range(20):\n",
        "    epoch_loss = 0\n",
        "    for xb, yb in loader:\n",
        "        pred = model(xb)\n",
        "        loss = criterion(pred, yb)\n",
        "        optimizer.zero_grad()\n",
        "        loss.backward()\n",
        "        optimizer.step()\n",
        "        epoch_loss += loss.item()\n",
        "    losses.append(epoch_loss / len(loader))\n",
        "    print(f\"Epoch {epoch}: Loss = {epoch_loss / len(loader):.4f}\")"
      ]
    },
    {
      "cell_type": "code",
      "execution_count": 12,
      "metadata": {
        "colab": {
          "base_uri": "https://localhost:8080/",
          "height": 472
        },
        "id": "fjDHZI0K3juY",
        "outputId": "eba81e21-f5ca-419e-c709-d30cff3dc836"
      },
      "outputs": [
        {
          "data": {
            "image/png": "[encoded data removed]",
            "text/plain": [
              "<Figure size 640x480 with 1 Axes>"
            ]
          },
          "metadata": {},
          "output_type": "display_data"
        }
      ],
      "source": [
        "# Plot training loss\n",
        "plt.plot(losses)\n",
        "plt.xlabel(\"Epoch\")\n",
        "# plt.xticks(range(len(losses)), range(1, len(losses) + 1))\n",
        "plt.ylabel(\"Loss\")\n",
        "plt.title(\"Training Loss Curve\")\n",
        "plt.grid(True)\n",
        "plt.show()"
      ]
    },
    {
      "cell_type": "markdown",
      "metadata": {
        "id": "B_0RZia6h94K"
      },
      "source": [
        "# 5. Eval"
      ]
    },
    {
      "cell_type": "code",
      "execution_count": 14,
      "metadata": {
        "id": "OSSNt5ahjAsd"
      },
      "outputs": [],
      "source": [
        "X_test = np.load('data/collected_test_data_input.npy')\n",
        "y_test = np.load('data/collected_test_data_output.npy')"
      ]
    },
    {
      "cell_type": "code",
      "execution_count": 15,
      "metadata": {
        "colab": {
          "base_uri": "https://localhost:8080/"
        },
        "id": "fdIfqR523kA4",
        "outputId": "b06d91a8-e4fa-4085-a0fc-0a3e21cd7c8b"
      },
      "outputs": [
        {
          "name": "stdout",
          "output_type": "stream",
          "text": [
            "Predicted: [ 0.41719028  0.9099009  -3.9722855   0.5076891 ]\n",
            "Ground Truth: [ 0.54564544  0.9435534  -3.97647731  0.4462975 ]\n"
          ]
        },
        {
          "name": "stderr",
          "output_type": "stream",
          "text": [
            "C:\\Users\\griff\\AppData\\Local\\Temp\\ipykernel_23792\\1883937767.py:6: UserWarning: Creating a tensor from a list of numpy.ndarrays is extremely slow. Please consider converting the list to a single numpy.ndarray with numpy.array() before converting to a tensor. (Triggered internally at C:\\actions-runner\\_work\\pytorch\\pytorch\\pytorch\\torch\\csrc\\utils\\tensor_new.cpp:257.)\n",
            "  input_tensor = torch.tensor([test_seq], dtype=torch.float32)\n"
          ]
        }
      ],
      "source": [
        "model.eval()\n",
        "with torch.no_grad():\n",
        "    i = np.random.randint(0, len(X_test) - 1)\n",
        "    test_seq = X_test[0]\n",
        "    test_target = y_test[0]\n",
        "    input_tensor = torch.tensor([test_seq], dtype=torch.float32)\n",
        "    prediction = model(input_tensor)[0].numpy()\n",
        "    print(\"Predicted:\", prediction)\n",
        "    print(\"Ground Truth:\", test_target)  # [x, y, vx, vy]"
      ]
    },
    {
      "cell_type": "code",
      "execution_count": 24,
      "metadata": {
        "colab": {
          "base_uri": "https://localhost:8080/"
        },
        "id": "DxhNjZ0JyrtH",
        "outputId": "777e398e-beaa-44d6-c2e4-15e19fd69de2"
      },
      "outputs": [],
      "source": [
        "true_vel = []\n",
        "pred_vel = []\n",
        "true_pos = []\n",
        "pred_pos = []\n",
        "\n",
        "model.eval()\n",
        "with torch.no_grad():\n",
        "    idx = np.random.randint(0, len(X_test) - 1, 20)\n",
        "\n",
        "    for i in idx:\n",
        "        test_seq = X_test[i]\n",
        "        test_target = y_test[i]\n",
        "        input_tensor = torch.tensor([test_seq], dtype=torch.float32)\n",
        "        prediction = model(input_tensor)[0].numpy()\n",
        "\n",
        "        true_pos.append(test_target[:2])\n",
        "        true_vel.append(test_target[2:])\n",
        "        pred_pos.append(prediction[:2])\n",
        "        pred_vel.append(prediction[2:])\n",
        "    # print(\"Predicted:\", prediction)\n",
        "    # print(\"Ground Truth:\", test_target)  # [x, y, vx, vy]"
      ]
    },
    {
      "cell_type": "code",
      "execution_count": 25,
      "metadata": {
        "id": "tEyIdyQ-2Hht"
      },
      "outputs": [],
      "source": [
        "x_coords_true_vel, y_coords_true_vel = zip(*true_vel)\n",
        "x_coords_pred_vel, y_coords_pred_vel = zip(*pred_vel)\n",
        "x_coords_true_pos, y_coords_true_pos = zip(*true_pos)\n",
        "x_coords_pred_pos, y_coords_pred_pos = zip(*pred_pos)"
      ]
    },
    {
      "cell_type": "code",
      "execution_count": 26,
      "metadata": {},
      "outputs": [
        {
          "data": {
            "text/plain": [
              "<matplotlib.collections.PathCollection at 0x26f535e7670>"
            ]
          },
          "execution_count": 26,
          "metadata": {},
          "output_type": "execute_result"
        },
        {
          "data": {
            "image/png": "[encoded data removed]",
            "text/plain": [
              "<Figure size 640x480 with 1 Axes>"
            ]
          },
          "metadata": {},
          "output_type": "display_data"
        }
      ],
      "source": [
        "plt.scatter(x_coords_true_vel, y_coords_true_vel, color='blue', label='True Velocity')\n",
        "plt.scatter(x_coords_pred_vel, y_coords_pred_vel, color='red', label='Predicted Velocity')"
      ]
    },
    {
      "cell_type": "code",
      "execution_count": 27,
      "metadata": {},
      "outputs": [
        {
          "data": {
            "text/plain": [
              "<matplotlib.collections.PathCollection at 0x26f53aa7970>"
            ]
          },
          "execution_count": 27,
          "metadata": {},
          "output_type": "execute_result"
        },
        {
          "data": {
            "image/png": "[encoded data removed]",
            "text/plain": [
              "<Figure size 640x480 with 1 Axes>"
            ]
          },
          "metadata": {},
          "output_type": "display_data"
        }
      ],
      "source": [
        "plt.scatter(x_coords_true_pos, y_coords_true_pos, color='blue', label='True Position')\n",
        "plt.scatter(x_coords_pred_pos, y_coords_pred_pos, color='red', label='Predicted Position')"
      ]
    },
    {
      "cell_type": "code",
      "execution_count": null,
      "metadata": {},
      "outputs": [],
      "source": []
    }
  ],
  "metadata": {
    "colab": {
      "provenance": []
    },
    "kernelspec": {
      "display_name": "vision",
      "language": "python",
      "name": "python3"
    },
    "language_info": {
      "codemirror_mode": {
        "name": "ipython",
        "version": 3
      },
      "file_extension": ".py",
      "mimetype": "text/x-python",
      "name": "python",
      "nbconvert_exporter": "python",
      "pygments_lexer": "ipython3",
      "version": "3.10.8"
    }
  },
  "nbformat": 4,
  "nbformat_minor": 0
}
